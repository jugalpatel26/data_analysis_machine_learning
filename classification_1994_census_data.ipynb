{
 "cells": [
  {
   "cell_type": "markdown",
   "metadata": {},
   "source": [
    "# Classification\n"
   ]
  },
  {
   "cell_type": "markdown",
   "metadata": {},
   "source": [
    "<font color=\"blue\"> Jugal Patel </font>"
   ]
  },
  {
   "cell_type": "markdown",
   "metadata": {},
   "source": [
    "# I. Introduction\n",
    "\n",
    "- For this assignment I am going to implement four classification methods :-\n",
    "     - Pocket Algorithm\n",
    "     - QDA - Quadratic Discriminant Analysis \n",
    "     - LDA - Linear Discriminant Analysis \n",
    "     - Logistic Regression\n",
    "- I have use 1994 census data for this assignment which consist of 48842 instances and 14 attributes. Divided the same data for training and testing.\n",
    "- I will be using different evaluation matrix like confusion, accuracy, ROC etc.\n"
   ]
  },
  {
   "cell_type": "markdown",
   "metadata": {},
   "source": [
    "# II. Data\n",
    "\n"
   ]
  },
  {
   "cell_type": "markdown",
   "metadata": {},
   "source": [
    "## A. Description\n",
    "I have used data set from https://archive.ics.uci.edu/ml/datasets/Census+Income which is a 1994 census data. it consist of 48842 instances and 14 attributes which predict whether income exceeds $50K/yr based on census data.\n",
    "List of Attributes:-\n",
    "- age: continuous. \n",
    "- workclass: Private, Self-emp-not-inc, Self-emp-inc, Federal-gov, Local-gov, State-gov, Without-pay, Never-worked. \n",
    "- fnlwgt: continuous. \n",
    "- education: Bachelors, Some-college, 11th, HS-grad, Prof-school, Assoc-acdm, Assoc-voc, 9th, 7th-8th, 12th, Masters, 1st-4th, 10th, Doctorate, 5th-6th, Preschool. \n",
    "- education-num: continuous. \n",
    "- marital-status: Married-civ-spouse, Divorced, Never-married, Separated, Widowed, Married-spouse-absent, Married-AF-spouse. \n",
    "- occupation: Tech-support, Craft-repair, Other-service, Sales, Exec-managerial, Prof-specialty, Handlers-cleaners, Machine-op-inspct, Adm-clerical, Farming-fishing, Transport-moving, Priv-house-serv, Protective-serv, Armed-Forces. \n",
    "- relationship: Wife, Own-child, Husband, Not-in-family, Other-relative, Unmarried. \n",
    "- race: White, Asian-Pac-Islander, Amer-Indian-Eskimo, Other, Black. \n",
    "- sex: Female, Male. \n",
    "- capital-gain: continuous. \n",
    "- capital-loss: continuous. \n",
    "- hours-per-week: continuous. \n",
    "- native-country: United-States, Cambodia, England, Puerto-Rico, Canada, Germany, Outlying-US(Guam-USVI-etc), India, Japan, Greece, South, China, Cuba, Iran, Honduras, Philippines, Italy, Poland, Jamaica, Vietnam, Mexico, Portugal, Ireland, France, Dominican-Republic, Laos, Ecuador, Taiwan, Haiti, Columbia, Hungary, Guatemala, Nicaragua, Scotland, Thailand, Yugoslavia, El-Salvador, Trinadad&Tobago, Peru, Hong, Holand-Netherlands.\n",
    "- income: less than equal 50k or more than 50k\n",
    "\n"
   ]
  },
  {
   "cell_type": "code",
   "execution_count": 1,
   "metadata": {},
   "outputs": [
    {
     "data": {
      "text/html": [
       "<div>\n",
       "<style scoped>\n",
       "    .dataframe tbody tr th:only-of-type {\n",
       "        vertical-align: middle;\n",
       "    }\n",
       "\n",
       "    .dataframe tbody tr th {\n",
       "        vertical-align: top;\n",
       "    }\n",
       "\n",
       "    .dataframe thead th {\n",
       "        text-align: right;\n",
       "    }\n",
       "</style>\n",
       "<table border=\"1\" class=\"dataframe\">\n",
       "  <thead>\n",
       "    <tr style=\"text-align: right;\">\n",
       "      <th></th>\n",
       "      <th>39</th>\n",
       "      <th>State-gov</th>\n",
       "      <th>77516</th>\n",
       "      <th>Bachelors</th>\n",
       "      <th>13</th>\n",
       "      <th>Never-married</th>\n",
       "      <th>Adm-clerical</th>\n",
       "      <th>Not-in-family</th>\n",
       "      <th>White</th>\n",
       "      <th>Male</th>\n",
       "      <th>2174</th>\n",
       "      <th>0</th>\n",
       "      <th>40</th>\n",
       "      <th>United-States</th>\n",
       "      <th>&lt;=50K</th>\n",
       "    </tr>\n",
       "  </thead>\n",
       "  <tbody>\n",
       "    <tr>\n",
       "      <th>0</th>\n",
       "      <td>50</td>\n",
       "      <td>Self-emp-not-inc</td>\n",
       "      <td>83311</td>\n",
       "      <td>Bachelors</td>\n",
       "      <td>13</td>\n",
       "      <td>Married-civ-spouse</td>\n",
       "      <td>Exec-managerial</td>\n",
       "      <td>Husband</td>\n",
       "      <td>White</td>\n",
       "      <td>Male</td>\n",
       "      <td>0</td>\n",
       "      <td>0</td>\n",
       "      <td>13</td>\n",
       "      <td>United-States</td>\n",
       "      <td>&lt;=50K</td>\n",
       "    </tr>\n",
       "    <tr>\n",
       "      <th>1</th>\n",
       "      <td>38</td>\n",
       "      <td>Private</td>\n",
       "      <td>215646</td>\n",
       "      <td>HS-grad</td>\n",
       "      <td>9</td>\n",
       "      <td>Divorced</td>\n",
       "      <td>Handlers-cleaners</td>\n",
       "      <td>Not-in-family</td>\n",
       "      <td>White</td>\n",
       "      <td>Male</td>\n",
       "      <td>0</td>\n",
       "      <td>0</td>\n",
       "      <td>40</td>\n",
       "      <td>United-States</td>\n",
       "      <td>&lt;=50K</td>\n",
       "    </tr>\n",
       "    <tr>\n",
       "      <th>2</th>\n",
       "      <td>53</td>\n",
       "      <td>Private</td>\n",
       "      <td>234721</td>\n",
       "      <td>11th</td>\n",
       "      <td>7</td>\n",
       "      <td>Married-civ-spouse</td>\n",
       "      <td>Handlers-cleaners</td>\n",
       "      <td>Husband</td>\n",
       "      <td>Black</td>\n",
       "      <td>Male</td>\n",
       "      <td>0</td>\n",
       "      <td>0</td>\n",
       "      <td>40</td>\n",
       "      <td>United-States</td>\n",
       "      <td>&lt;=50K</td>\n",
       "    </tr>\n",
       "    <tr>\n",
       "      <th>3</th>\n",
       "      <td>28</td>\n",
       "      <td>Private</td>\n",
       "      <td>338409</td>\n",
       "      <td>Bachelors</td>\n",
       "      <td>13</td>\n",
       "      <td>Married-civ-spouse</td>\n",
       "      <td>Prof-specialty</td>\n",
       "      <td>Wife</td>\n",
       "      <td>Black</td>\n",
       "      <td>Female</td>\n",
       "      <td>0</td>\n",
       "      <td>0</td>\n",
       "      <td>40</td>\n",
       "      <td>Cuba</td>\n",
       "      <td>&lt;=50K</td>\n",
       "    </tr>\n",
       "    <tr>\n",
       "      <th>4</th>\n",
       "      <td>37</td>\n",
       "      <td>Private</td>\n",
       "      <td>284582</td>\n",
       "      <td>Masters</td>\n",
       "      <td>14</td>\n",
       "      <td>Married-civ-spouse</td>\n",
       "      <td>Exec-managerial</td>\n",
       "      <td>Wife</td>\n",
       "      <td>White</td>\n",
       "      <td>Female</td>\n",
       "      <td>0</td>\n",
       "      <td>0</td>\n",
       "      <td>40</td>\n",
       "      <td>United-States</td>\n",
       "      <td>&lt;=50K</td>\n",
       "    </tr>\n",
       "  </tbody>\n",
       "</table>\n",
       "</div>"
      ],
      "text/plain": [
       "   39          State-gov   77516   Bachelors   13        Never-married  \\\n",
       "0  50   Self-emp-not-inc   83311   Bachelors   13   Married-civ-spouse   \n",
       "1  38            Private  215646     HS-grad    9             Divorced   \n",
       "2  53            Private  234721        11th    7   Married-civ-spouse   \n",
       "3  28            Private  338409   Bachelors   13   Married-civ-spouse   \n",
       "4  37            Private  284582     Masters   14   Married-civ-spouse   \n",
       "\n",
       "         Adm-clerical   Not-in-family   White     Male   2174   0   40  \\\n",
       "0     Exec-managerial         Husband   White     Male      0   0   13   \n",
       "1   Handlers-cleaners   Not-in-family   White     Male      0   0   40   \n",
       "2   Handlers-cleaners         Husband   Black     Male      0   0   40   \n",
       "3      Prof-specialty            Wife   Black   Female      0   0   40   \n",
       "4     Exec-managerial            Wife   White   Female      0   0   40   \n",
       "\n",
       "    United-States   <=50K  \n",
       "0   United-States   <=50K  \n",
       "1   United-States   <=50K  \n",
       "2   United-States   <=50K  \n",
       "3            Cuba   <=50K  \n",
       "4   United-States   <=50K  "
      ]
     },
     "execution_count": 1,
     "metadata": {},
     "output_type": "execute_result"
    }
   ],
   "source": [
    "import pandas as pd\n",
    "import numpy as np\n",
    "df = pd.read_csv(\"adult.csv\")\n",
    "df.head()"
   ]
  },
  {
   "cell_type": "code",
   "execution_count": 2,
   "metadata": {},
   "outputs": [
    {
     "data": {
      "text/html": [
       "<div>\n",
       "<style scoped>\n",
       "    .dataframe tbody tr th:only-of-type {\n",
       "        vertical-align: middle;\n",
       "    }\n",
       "\n",
       "    .dataframe tbody tr th {\n",
       "        vertical-align: top;\n",
       "    }\n",
       "\n",
       "    .dataframe thead th {\n",
       "        text-align: right;\n",
       "    }\n",
       "</style>\n",
       "<table border=\"1\" class=\"dataframe\">\n",
       "  <thead>\n",
       "    <tr style=\"text-align: right;\">\n",
       "      <th></th>\n",
       "      <th>age</th>\n",
       "      <th>workclass</th>\n",
       "      <th>fnlwgt</th>\n",
       "      <th>education</th>\n",
       "      <th>education-num</th>\n",
       "      <th>marital-status</th>\n",
       "      <th>occupation</th>\n",
       "      <th>relationship</th>\n",
       "      <th>race</th>\n",
       "      <th>sex</th>\n",
       "      <th>capital-gain</th>\n",
       "      <th>capital-loss</th>\n",
       "      <th>hours-per-week</th>\n",
       "      <th>native-country</th>\n",
       "      <th>income</th>\n",
       "    </tr>\n",
       "  </thead>\n",
       "  <tbody>\n",
       "    <tr>\n",
       "      <th>0</th>\n",
       "      <td>50</td>\n",
       "      <td>Self-emp-not-inc</td>\n",
       "      <td>83311</td>\n",
       "      <td>Bachelors</td>\n",
       "      <td>13</td>\n",
       "      <td>Married-civ-spouse</td>\n",
       "      <td>Exec-managerial</td>\n",
       "      <td>Husband</td>\n",
       "      <td>White</td>\n",
       "      <td>Male</td>\n",
       "      <td>0</td>\n",
       "      <td>0</td>\n",
       "      <td>13</td>\n",
       "      <td>United-States</td>\n",
       "      <td>&lt;=50K</td>\n",
       "    </tr>\n",
       "    <tr>\n",
       "      <th>1</th>\n",
       "      <td>38</td>\n",
       "      <td>Private</td>\n",
       "      <td>215646</td>\n",
       "      <td>HS-grad</td>\n",
       "      <td>9</td>\n",
       "      <td>Divorced</td>\n",
       "      <td>Handlers-cleaners</td>\n",
       "      <td>Not-in-family</td>\n",
       "      <td>White</td>\n",
       "      <td>Male</td>\n",
       "      <td>0</td>\n",
       "      <td>0</td>\n",
       "      <td>40</td>\n",
       "      <td>United-States</td>\n",
       "      <td>&lt;=50K</td>\n",
       "    </tr>\n",
       "    <tr>\n",
       "      <th>2</th>\n",
       "      <td>53</td>\n",
       "      <td>Private</td>\n",
       "      <td>234721</td>\n",
       "      <td>11th</td>\n",
       "      <td>7</td>\n",
       "      <td>Married-civ-spouse</td>\n",
       "      <td>Handlers-cleaners</td>\n",
       "      <td>Husband</td>\n",
       "      <td>Black</td>\n",
       "      <td>Male</td>\n",
       "      <td>0</td>\n",
       "      <td>0</td>\n",
       "      <td>40</td>\n",
       "      <td>United-States</td>\n",
       "      <td>&lt;=50K</td>\n",
       "    </tr>\n",
       "    <tr>\n",
       "      <th>3</th>\n",
       "      <td>28</td>\n",
       "      <td>Private</td>\n",
       "      <td>338409</td>\n",
       "      <td>Bachelors</td>\n",
       "      <td>13</td>\n",
       "      <td>Married-civ-spouse</td>\n",
       "      <td>Prof-specialty</td>\n",
       "      <td>Wife</td>\n",
       "      <td>Black</td>\n",
       "      <td>Female</td>\n",
       "      <td>0</td>\n",
       "      <td>0</td>\n",
       "      <td>40</td>\n",
       "      <td>Cuba</td>\n",
       "      <td>&lt;=50K</td>\n",
       "    </tr>\n",
       "    <tr>\n",
       "      <th>4</th>\n",
       "      <td>37</td>\n",
       "      <td>Private</td>\n",
       "      <td>284582</td>\n",
       "      <td>Masters</td>\n",
       "      <td>14</td>\n",
       "      <td>Married-civ-spouse</td>\n",
       "      <td>Exec-managerial</td>\n",
       "      <td>Wife</td>\n",
       "      <td>White</td>\n",
       "      <td>Female</td>\n",
       "      <td>0</td>\n",
       "      <td>0</td>\n",
       "      <td>40</td>\n",
       "      <td>United-States</td>\n",
       "      <td>&lt;=50K</td>\n",
       "    </tr>\n",
       "  </tbody>\n",
       "</table>\n",
       "</div>"
      ],
      "text/plain": [
       "   age          workclass  fnlwgt   education  education-num  \\\n",
       "0   50   Self-emp-not-inc   83311   Bachelors             13   \n",
       "1   38            Private  215646     HS-grad              9   \n",
       "2   53            Private  234721        11th              7   \n",
       "3   28            Private  338409   Bachelors             13   \n",
       "4   37            Private  284582     Masters             14   \n",
       "\n",
       "        marital-status          occupation    relationship    race      sex  \\\n",
       "0   Married-civ-spouse     Exec-managerial         Husband   White     Male   \n",
       "1             Divorced   Handlers-cleaners   Not-in-family   White     Male   \n",
       "2   Married-civ-spouse   Handlers-cleaners         Husband   Black     Male   \n",
       "3   Married-civ-spouse      Prof-specialty            Wife   Black   Female   \n",
       "4   Married-civ-spouse     Exec-managerial            Wife   White   Female   \n",
       "\n",
       "   capital-gain  capital-loss  hours-per-week  native-country  income  \n",
       "0             0             0              13   United-States   <=50K  \n",
       "1             0             0              40   United-States   <=50K  \n",
       "2             0             0              40   United-States   <=50K  \n",
       "3             0             0              40            Cuba   <=50K  \n",
       "4             0             0              40   United-States   <=50K  "
      ]
     },
     "execution_count": 2,
     "metadata": {},
     "output_type": "execute_result"
    }
   ],
   "source": [
    "df.columns=[\"age\", \"workclass\", \"fnlwgt\", \"education\",\"education-num\",\"marital-status\",\"occupation\",\"relationship\",\"race\",\"sex\",\"capital-gain\",\"capital-loss\",\"hours-per-week\",\"native-country\",\"income\"]\n",
    "df.head()"
   ]
  },
  {
   "cell_type": "markdown",
   "metadata": {},
   "source": [
    "### Drop null rows"
   ]
  },
  {
   "cell_type": "code",
   "execution_count": 3,
   "metadata": {},
   "outputs": [
    {
     "name": "stdout",
     "output_type": "stream",
     "text": [
      "For colums empty rows age  :  0\n",
      "For colums empty rows workclass  :  1836\n",
      "For colums empty rows fnlwgt  :  0\n",
      "For colums empty rows education  :  0\n",
      "For colums empty rows education-num  :  0\n",
      "For colums empty rows marital-status  :  0\n",
      "For colums empty rows occupation  :  7\n",
      "For colums empty rows relationship  :  0\n",
      "For colums empty rows race  :  0\n",
      "For colums empty rows sex  :  0\n",
      "For colums empty rows capital-gain  :  0\n",
      "For colums empty rows capital-loss  :  0\n",
      "For colums empty rows hours-per-week  :  0\n",
      "For colums empty rows native-country  :  556\n",
      "For colums empty rows income  :  0\n"
     ]
    }
   ],
   "source": [
    "for col in df.columns:\n",
    "    cnt = df[col].value_counts()\n",
    "    val = cnt[' ?'] if ' ?' in cnt.keys() else 0\n",
    "    if val > 0:\n",
    "        df = df[df.loc[:,col] != ' ?']\n",
    "    print(\"For colums empty rows\", col , \" : \", val)"
   ]
  },
  {
   "cell_type": "code",
   "execution_count": 4,
   "metadata": {},
   "outputs": [
    {
     "data": {
      "text/plain": [
       " <=50K    22653\n",
       " >50K      7508\n",
       "Name: income, dtype: int64"
      ]
     },
     "execution_count": 4,
     "metadata": {},
     "output_type": "execute_result"
    }
   ],
   "source": [
    "df['income'].value_counts()"
   ]
  },
  {
   "cell_type": "code",
   "execution_count": 5,
   "metadata": {},
   "outputs": [],
   "source": [
    "df['income'] = df['income'].apply(lambda x: -1 if x==' <=50K' else 1)"
   ]
  },
  {
   "cell_type": "code",
   "execution_count": 6,
   "metadata": {},
   "outputs": [
    {
     "data": {
      "text/plain": [
       "-1    22653\n",
       " 1     7508\n",
       "Name: income, dtype: int64"
      ]
     },
     "execution_count": 6,
     "metadata": {},
     "output_type": "execute_result"
    }
   ],
   "source": [
    "df['income'].value_counts()"
   ]
  },
  {
   "cell_type": "code",
   "execution_count": 7,
   "metadata": {},
   "outputs": [],
   "source": [
    "df = df.drop(['education'], axis=1)"
   ]
  },
  {
   "cell_type": "code",
   "execution_count": 8,
   "metadata": {},
   "outputs": [],
   "source": [
    "to_encode = ['workclass', 'education-num', 'marital-status', 'occupation', 'relationship', 'race', 'sex', 'native-country']"
   ]
  },
  {
   "cell_type": "markdown",
   "metadata": {},
   "source": [
    "### Encoding categorial variables"
   ]
  },
  {
   "cell_type": "code",
   "execution_count": 9,
   "metadata": {},
   "outputs": [
    {
     "data": {
      "text/html": [
       "<div>\n",
       "<style scoped>\n",
       "    .dataframe tbody tr th:only-of-type {\n",
       "        vertical-align: middle;\n",
       "    }\n",
       "\n",
       "    .dataframe tbody tr th {\n",
       "        vertical-align: top;\n",
       "    }\n",
       "\n",
       "    .dataframe thead th {\n",
       "        text-align: right;\n",
       "    }\n",
       "</style>\n",
       "<table border=\"1\" class=\"dataframe\">\n",
       "  <thead>\n",
       "    <tr style=\"text-align: right;\">\n",
       "      <th></th>\n",
       "      <th>age</th>\n",
       "      <th>fnlwgt</th>\n",
       "      <th>capital-gain</th>\n",
       "      <th>capital-loss</th>\n",
       "      <th>hours-per-week</th>\n",
       "      <th>income</th>\n",
       "      <th>workclass_ Federal-gov</th>\n",
       "      <th>workclass_ Local-gov</th>\n",
       "      <th>workclass_ Private</th>\n",
       "      <th>workclass_ Self-emp-inc</th>\n",
       "      <th>...</th>\n",
       "      <th>native-country_ Portugal</th>\n",
       "      <th>native-country_ Puerto-Rico</th>\n",
       "      <th>native-country_ Scotland</th>\n",
       "      <th>native-country_ South</th>\n",
       "      <th>native-country_ Taiwan</th>\n",
       "      <th>native-country_ Thailand</th>\n",
       "      <th>native-country_ Trinadad&amp;Tobago</th>\n",
       "      <th>native-country_ United-States</th>\n",
       "      <th>native-country_ Vietnam</th>\n",
       "      <th>native-country_ Yugoslavia</th>\n",
       "    </tr>\n",
       "  </thead>\n",
       "  <tbody>\n",
       "    <tr>\n",
       "      <th>0</th>\n",
       "      <td>50</td>\n",
       "      <td>83311</td>\n",
       "      <td>0</td>\n",
       "      <td>0</td>\n",
       "      <td>13</td>\n",
       "      <td>-1</td>\n",
       "      <td>0</td>\n",
       "      <td>0</td>\n",
       "      <td>0</td>\n",
       "      <td>0</td>\n",
       "      <td>...</td>\n",
       "      <td>0</td>\n",
       "      <td>0</td>\n",
       "      <td>0</td>\n",
       "      <td>0</td>\n",
       "      <td>0</td>\n",
       "      <td>0</td>\n",
       "      <td>0</td>\n",
       "      <td>1</td>\n",
       "      <td>0</td>\n",
       "      <td>0</td>\n",
       "    </tr>\n",
       "    <tr>\n",
       "      <th>1</th>\n",
       "      <td>38</td>\n",
       "      <td>215646</td>\n",
       "      <td>0</td>\n",
       "      <td>0</td>\n",
       "      <td>40</td>\n",
       "      <td>-1</td>\n",
       "      <td>0</td>\n",
       "      <td>0</td>\n",
       "      <td>1</td>\n",
       "      <td>0</td>\n",
       "      <td>...</td>\n",
       "      <td>0</td>\n",
       "      <td>0</td>\n",
       "      <td>0</td>\n",
       "      <td>0</td>\n",
       "      <td>0</td>\n",
       "      <td>0</td>\n",
       "      <td>0</td>\n",
       "      <td>1</td>\n",
       "      <td>0</td>\n",
       "      <td>0</td>\n",
       "    </tr>\n",
       "    <tr>\n",
       "      <th>2</th>\n",
       "      <td>53</td>\n",
       "      <td>234721</td>\n",
       "      <td>0</td>\n",
       "      <td>0</td>\n",
       "      <td>40</td>\n",
       "      <td>-1</td>\n",
       "      <td>0</td>\n",
       "      <td>0</td>\n",
       "      <td>1</td>\n",
       "      <td>0</td>\n",
       "      <td>...</td>\n",
       "      <td>0</td>\n",
       "      <td>0</td>\n",
       "      <td>0</td>\n",
       "      <td>0</td>\n",
       "      <td>0</td>\n",
       "      <td>0</td>\n",
       "      <td>0</td>\n",
       "      <td>1</td>\n",
       "      <td>0</td>\n",
       "      <td>0</td>\n",
       "    </tr>\n",
       "    <tr>\n",
       "      <th>3</th>\n",
       "      <td>28</td>\n",
       "      <td>338409</td>\n",
       "      <td>0</td>\n",
       "      <td>0</td>\n",
       "      <td>40</td>\n",
       "      <td>-1</td>\n",
       "      <td>0</td>\n",
       "      <td>0</td>\n",
       "      <td>1</td>\n",
       "      <td>0</td>\n",
       "      <td>...</td>\n",
       "      <td>0</td>\n",
       "      <td>0</td>\n",
       "      <td>0</td>\n",
       "      <td>0</td>\n",
       "      <td>0</td>\n",
       "      <td>0</td>\n",
       "      <td>0</td>\n",
       "      <td>0</td>\n",
       "      <td>0</td>\n",
       "      <td>0</td>\n",
       "    </tr>\n",
       "    <tr>\n",
       "      <th>4</th>\n",
       "      <td>37</td>\n",
       "      <td>284582</td>\n",
       "      <td>0</td>\n",
       "      <td>0</td>\n",
       "      <td>40</td>\n",
       "      <td>-1</td>\n",
       "      <td>0</td>\n",
       "      <td>0</td>\n",
       "      <td>1</td>\n",
       "      <td>0</td>\n",
       "      <td>...</td>\n",
       "      <td>0</td>\n",
       "      <td>0</td>\n",
       "      <td>0</td>\n",
       "      <td>0</td>\n",
       "      <td>0</td>\n",
       "      <td>0</td>\n",
       "      <td>0</td>\n",
       "      <td>1</td>\n",
       "      <td>0</td>\n",
       "      <td>0</td>\n",
       "    </tr>\n",
       "  </tbody>\n",
       "</table>\n",
       "<p>5 rows × 104 columns</p>\n",
       "</div>"
      ],
      "text/plain": [
       "   age  fnlwgt  capital-gain  capital-loss  hours-per-week  income  \\\n",
       "0   50   83311             0             0              13      -1   \n",
       "1   38  215646             0             0              40      -1   \n",
       "2   53  234721             0             0              40      -1   \n",
       "3   28  338409             0             0              40      -1   \n",
       "4   37  284582             0             0              40      -1   \n",
       "\n",
       "   workclass_ Federal-gov  workclass_ Local-gov  workclass_ Private  \\\n",
       "0                       0                     0                   0   \n",
       "1                       0                     0                   1   \n",
       "2                       0                     0                   1   \n",
       "3                       0                     0                   1   \n",
       "4                       0                     0                   1   \n",
       "\n",
       "   workclass_ Self-emp-inc             ...              \\\n",
       "0                        0             ...               \n",
       "1                        0             ...               \n",
       "2                        0             ...               \n",
       "3                        0             ...               \n",
       "4                        0             ...               \n",
       "\n",
       "   native-country_ Portugal  native-country_ Puerto-Rico  \\\n",
       "0                         0                            0   \n",
       "1                         0                            0   \n",
       "2                         0                            0   \n",
       "3                         0                            0   \n",
       "4                         0                            0   \n",
       "\n",
       "   native-country_ Scotland  native-country_ South  native-country_ Taiwan  \\\n",
       "0                         0                      0                       0   \n",
       "1                         0                      0                       0   \n",
       "2                         0                      0                       0   \n",
       "3                         0                      0                       0   \n",
       "4                         0                      0                       0   \n",
       "\n",
       "   native-country_ Thailand  native-country_ Trinadad&Tobago  \\\n",
       "0                         0                                0   \n",
       "1                         0                                0   \n",
       "2                         0                                0   \n",
       "3                         0                                0   \n",
       "4                         0                                0   \n",
       "\n",
       "   native-country_ United-States  native-country_ Vietnam  \\\n",
       "0                              1                        0   \n",
       "1                              1                        0   \n",
       "2                              1                        0   \n",
       "3                              0                        0   \n",
       "4                              1                        0   \n",
       "\n",
       "   native-country_ Yugoslavia  \n",
       "0                           0  \n",
       "1                           0  \n",
       "2                           0  \n",
       "3                           0  \n",
       "4                           0  \n",
       "\n",
       "[5 rows x 104 columns]"
      ]
     },
     "execution_count": 9,
     "metadata": {},
     "output_type": "execute_result"
    }
   ],
   "source": [
    "df_new = pd.get_dummies(df, prefix=to_encode, columns=to_encode)\n",
    "df_new.head()"
   ]
  },
  {
   "cell_type": "markdown",
   "metadata": {},
   "source": [
    "### splitting data"
   ]
  },
  {
   "cell_type": "code",
   "execution_count": 10,
   "metadata": {},
   "outputs": [],
   "source": [
    "from sklearn.model_selection import train_test_split\n",
    "xtrain, xtest, ytrain, ytest = train_test_split(df_new.loc[:, df_new.columns!='income'], df_new.loc[:, 'income'])"
   ]
  },
  {
   "cell_type": "code",
   "execution_count": 11,
   "metadata": {},
   "outputs": [
    {
     "data": {
      "text/html": [
       "<div>\n",
       "<style scoped>\n",
       "    .dataframe tbody tr th:only-of-type {\n",
       "        vertical-align: middle;\n",
       "    }\n",
       "\n",
       "    .dataframe tbody tr th {\n",
       "        vertical-align: top;\n",
       "    }\n",
       "\n",
       "    .dataframe thead th {\n",
       "        text-align: right;\n",
       "    }\n",
       "</style>\n",
       "<table border=\"1\" class=\"dataframe\">\n",
       "  <thead>\n",
       "    <tr style=\"text-align: right;\">\n",
       "      <th></th>\n",
       "      <th>age</th>\n",
       "      <th>fnlwgt</th>\n",
       "      <th>capital-gain</th>\n",
       "      <th>capital-loss</th>\n",
       "      <th>hours-per-week</th>\n",
       "      <th>workclass_ Federal-gov</th>\n",
       "      <th>workclass_ Local-gov</th>\n",
       "      <th>workclass_ Private</th>\n",
       "      <th>workclass_ Self-emp-inc</th>\n",
       "      <th>workclass_ Self-emp-not-inc</th>\n",
       "      <th>...</th>\n",
       "      <th>native-country_ Portugal</th>\n",
       "      <th>native-country_ Puerto-Rico</th>\n",
       "      <th>native-country_ Scotland</th>\n",
       "      <th>native-country_ South</th>\n",
       "      <th>native-country_ Taiwan</th>\n",
       "      <th>native-country_ Thailand</th>\n",
       "      <th>native-country_ Trinadad&amp;Tobago</th>\n",
       "      <th>native-country_ United-States</th>\n",
       "      <th>native-country_ Vietnam</th>\n",
       "      <th>native-country_ Yugoslavia</th>\n",
       "    </tr>\n",
       "  </thead>\n",
       "  <tbody>\n",
       "    <tr>\n",
       "      <th>22688</th>\n",
       "      <td>26</td>\n",
       "      <td>212748</td>\n",
       "      <td>0</td>\n",
       "      <td>0</td>\n",
       "      <td>40</td>\n",
       "      <td>0</td>\n",
       "      <td>0</td>\n",
       "      <td>1</td>\n",
       "      <td>0</td>\n",
       "      <td>0</td>\n",
       "      <td>...</td>\n",
       "      <td>0</td>\n",
       "      <td>0</td>\n",
       "      <td>0</td>\n",
       "      <td>0</td>\n",
       "      <td>0</td>\n",
       "      <td>0</td>\n",
       "      <td>0</td>\n",
       "      <td>1</td>\n",
       "      <td>0</td>\n",
       "      <td>0</td>\n",
       "    </tr>\n",
       "    <tr>\n",
       "      <th>26946</th>\n",
       "      <td>25</td>\n",
       "      <td>96268</td>\n",
       "      <td>0</td>\n",
       "      <td>0</td>\n",
       "      <td>40</td>\n",
       "      <td>0</td>\n",
       "      <td>0</td>\n",
       "      <td>1</td>\n",
       "      <td>0</td>\n",
       "      <td>0</td>\n",
       "      <td>...</td>\n",
       "      <td>0</td>\n",
       "      <td>0</td>\n",
       "      <td>0</td>\n",
       "      <td>0</td>\n",
       "      <td>0</td>\n",
       "      <td>0</td>\n",
       "      <td>0</td>\n",
       "      <td>1</td>\n",
       "      <td>0</td>\n",
       "      <td>0</td>\n",
       "    </tr>\n",
       "    <tr>\n",
       "      <th>16823</th>\n",
       "      <td>27</td>\n",
       "      <td>240809</td>\n",
       "      <td>0</td>\n",
       "      <td>0</td>\n",
       "      <td>56</td>\n",
       "      <td>0</td>\n",
       "      <td>0</td>\n",
       "      <td>1</td>\n",
       "      <td>0</td>\n",
       "      <td>0</td>\n",
       "      <td>...</td>\n",
       "      <td>0</td>\n",
       "      <td>0</td>\n",
       "      <td>0</td>\n",
       "      <td>0</td>\n",
       "      <td>0</td>\n",
       "      <td>0</td>\n",
       "      <td>0</td>\n",
       "      <td>1</td>\n",
       "      <td>0</td>\n",
       "      <td>0</td>\n",
       "    </tr>\n",
       "    <tr>\n",
       "      <th>26282</th>\n",
       "      <td>50</td>\n",
       "      <td>178596</td>\n",
       "      <td>0</td>\n",
       "      <td>1408</td>\n",
       "      <td>50</td>\n",
       "      <td>0</td>\n",
       "      <td>0</td>\n",
       "      <td>1</td>\n",
       "      <td>0</td>\n",
       "      <td>0</td>\n",
       "      <td>...</td>\n",
       "      <td>0</td>\n",
       "      <td>0</td>\n",
       "      <td>0</td>\n",
       "      <td>0</td>\n",
       "      <td>0</td>\n",
       "      <td>0</td>\n",
       "      <td>0</td>\n",
       "      <td>1</td>\n",
       "      <td>0</td>\n",
       "      <td>0</td>\n",
       "    </tr>\n",
       "    <tr>\n",
       "      <th>22806</th>\n",
       "      <td>53</td>\n",
       "      <td>172991</td>\n",
       "      <td>0</td>\n",
       "      <td>0</td>\n",
       "      <td>25</td>\n",
       "      <td>0</td>\n",
       "      <td>0</td>\n",
       "      <td>1</td>\n",
       "      <td>0</td>\n",
       "      <td>0</td>\n",
       "      <td>...</td>\n",
       "      <td>0</td>\n",
       "      <td>0</td>\n",
       "      <td>0</td>\n",
       "      <td>0</td>\n",
       "      <td>0</td>\n",
       "      <td>0</td>\n",
       "      <td>0</td>\n",
       "      <td>1</td>\n",
       "      <td>0</td>\n",
       "      <td>0</td>\n",
       "    </tr>\n",
       "  </tbody>\n",
       "</table>\n",
       "<p>5 rows × 103 columns</p>\n",
       "</div>"
      ],
      "text/plain": [
       "       age  fnlwgt  capital-gain  capital-loss  hours-per-week  \\\n",
       "22688   26  212748             0             0              40   \n",
       "26946   25   96268             0             0              40   \n",
       "16823   27  240809             0             0              56   \n",
       "26282   50  178596             0          1408              50   \n",
       "22806   53  172991             0             0              25   \n",
       "\n",
       "       workclass_ Federal-gov  workclass_ Local-gov  workclass_ Private  \\\n",
       "22688                       0                     0                   1   \n",
       "26946                       0                     0                   1   \n",
       "16823                       0                     0                   1   \n",
       "26282                       0                     0                   1   \n",
       "22806                       0                     0                   1   \n",
       "\n",
       "       workclass_ Self-emp-inc  workclass_ Self-emp-not-inc  \\\n",
       "22688                        0                            0   \n",
       "26946                        0                            0   \n",
       "16823                        0                            0   \n",
       "26282                        0                            0   \n",
       "22806                        0                            0   \n",
       "\n",
       "                  ...              native-country_ Portugal  \\\n",
       "22688             ...                                     0   \n",
       "26946             ...                                     0   \n",
       "16823             ...                                     0   \n",
       "26282             ...                                     0   \n",
       "22806             ...                                     0   \n",
       "\n",
       "       native-country_ Puerto-Rico  native-country_ Scotland  \\\n",
       "22688                            0                         0   \n",
       "26946                            0                         0   \n",
       "16823                            0                         0   \n",
       "26282                            0                         0   \n",
       "22806                            0                         0   \n",
       "\n",
       "       native-country_ South  native-country_ Taiwan  \\\n",
       "22688                      0                       0   \n",
       "26946                      0                       0   \n",
       "16823                      0                       0   \n",
       "26282                      0                       0   \n",
       "22806                      0                       0   \n",
       "\n",
       "       native-country_ Thailand  native-country_ Trinadad&Tobago  \\\n",
       "22688                         0                                0   \n",
       "26946                         0                                0   \n",
       "16823                         0                                0   \n",
       "26282                         0                                0   \n",
       "22806                         0                                0   \n",
       "\n",
       "       native-country_ United-States  native-country_ Vietnam  \\\n",
       "22688                              1                        0   \n",
       "26946                              1                        0   \n",
       "16823                              1                        0   \n",
       "26282                              1                        0   \n",
       "22806                              1                        0   \n",
       "\n",
       "       native-country_ Yugoslavia  \n",
       "22688                           0  \n",
       "26946                           0  \n",
       "16823                           0  \n",
       "26282                           0  \n",
       "22806                           0  \n",
       "\n",
       "[5 rows x 103 columns]"
      ]
     },
     "execution_count": 11,
     "metadata": {},
     "output_type": "execute_result"
    }
   ],
   "source": [
    "xtrain.head()"
   ]
  },
  {
   "cell_type": "code",
   "execution_count": 12,
   "metadata": {},
   "outputs": [
    {
     "name": "stdout",
     "output_type": "stream",
     "text": [
      "Train data shape,  (22620, 103)\n",
      "Test data shape (7541, 103)\n"
     ]
    }
   ],
   "source": [
    "print(\"Train data shape, \", xtrain.shape)\n",
    "print(\"Test data shape\", xtest.shape)"
   ]
  },
  {
   "cell_type": "markdown",
   "metadata": {},
   "source": [
    "## B. Plots for understanding or analysis"
   ]
  },
  {
   "cell_type": "code",
   "execution_count": 13,
   "metadata": {},
   "outputs": [
    {
     "data": {
      "text/html": [
       "<div>\n",
       "<style scoped>\n",
       "    .dataframe tbody tr th:only-of-type {\n",
       "        vertical-align: middle;\n",
       "    }\n",
       "\n",
       "    .dataframe tbody tr th {\n",
       "        vertical-align: top;\n",
       "    }\n",
       "\n",
       "    .dataframe thead th {\n",
       "        text-align: right;\n",
       "    }\n",
       "</style>\n",
       "<table border=\"1\" class=\"dataframe\">\n",
       "  <thead>\n",
       "    <tr style=\"text-align: right;\">\n",
       "      <th></th>\n",
       "      <th>age</th>\n",
       "      <th>workclass</th>\n",
       "      <th>fnlwgt</th>\n",
       "      <th>education</th>\n",
       "      <th>education-num</th>\n",
       "      <th>marital-status</th>\n",
       "      <th>occupation</th>\n",
       "      <th>relationship</th>\n",
       "      <th>race</th>\n",
       "      <th>sex</th>\n",
       "      <th>capital-gain</th>\n",
       "      <th>capital-loss</th>\n",
       "      <th>hours-per-week</th>\n",
       "      <th>native-country</th>\n",
       "      <th>income</th>\n",
       "    </tr>\n",
       "  </thead>\n",
       "  <tbody>\n",
       "    <tr>\n",
       "      <th>0</th>\n",
       "      <td>50</td>\n",
       "      <td>Self-emp-not-inc</td>\n",
       "      <td>83311</td>\n",
       "      <td>Bachelors</td>\n",
       "      <td>13</td>\n",
       "      <td>Married-civ-spouse</td>\n",
       "      <td>Exec-managerial</td>\n",
       "      <td>Husband</td>\n",
       "      <td>White</td>\n",
       "      <td>Male</td>\n",
       "      <td>0</td>\n",
       "      <td>0</td>\n",
       "      <td>13</td>\n",
       "      <td>United-States</td>\n",
       "      <td>&lt;=50K</td>\n",
       "    </tr>\n",
       "    <tr>\n",
       "      <th>1</th>\n",
       "      <td>38</td>\n",
       "      <td>Private</td>\n",
       "      <td>215646</td>\n",
       "      <td>HS-grad</td>\n",
       "      <td>9</td>\n",
       "      <td>Divorced</td>\n",
       "      <td>Handlers-cleaners</td>\n",
       "      <td>Not-in-family</td>\n",
       "      <td>White</td>\n",
       "      <td>Male</td>\n",
       "      <td>0</td>\n",
       "      <td>0</td>\n",
       "      <td>40</td>\n",
       "      <td>United-States</td>\n",
       "      <td>&lt;=50K</td>\n",
       "    </tr>\n",
       "    <tr>\n",
       "      <th>2</th>\n",
       "      <td>53</td>\n",
       "      <td>Private</td>\n",
       "      <td>234721</td>\n",
       "      <td>11th</td>\n",
       "      <td>7</td>\n",
       "      <td>Married-civ-spouse</td>\n",
       "      <td>Handlers-cleaners</td>\n",
       "      <td>Husband</td>\n",
       "      <td>Black</td>\n",
       "      <td>Male</td>\n",
       "      <td>0</td>\n",
       "      <td>0</td>\n",
       "      <td>40</td>\n",
       "      <td>United-States</td>\n",
       "      <td>&lt;=50K</td>\n",
       "    </tr>\n",
       "    <tr>\n",
       "      <th>3</th>\n",
       "      <td>28</td>\n",
       "      <td>Private</td>\n",
       "      <td>338409</td>\n",
       "      <td>Bachelors</td>\n",
       "      <td>13</td>\n",
       "      <td>Married-civ-spouse</td>\n",
       "      <td>Prof-specialty</td>\n",
       "      <td>Wife</td>\n",
       "      <td>Black</td>\n",
       "      <td>Female</td>\n",
       "      <td>0</td>\n",
       "      <td>0</td>\n",
       "      <td>40</td>\n",
       "      <td>Cuba</td>\n",
       "      <td>&lt;=50K</td>\n",
       "    </tr>\n",
       "    <tr>\n",
       "      <th>4</th>\n",
       "      <td>37</td>\n",
       "      <td>Private</td>\n",
       "      <td>284582</td>\n",
       "      <td>Masters</td>\n",
       "      <td>14</td>\n",
       "      <td>Married-civ-spouse</td>\n",
       "      <td>Exec-managerial</td>\n",
       "      <td>Wife</td>\n",
       "      <td>White</td>\n",
       "      <td>Female</td>\n",
       "      <td>0</td>\n",
       "      <td>0</td>\n",
       "      <td>40</td>\n",
       "      <td>United-States</td>\n",
       "      <td>&lt;=50K</td>\n",
       "    </tr>\n",
       "  </tbody>\n",
       "</table>\n",
       "</div>"
      ],
      "text/plain": [
       "   age          workclass  fnlwgt   education  education-num  \\\n",
       "0   50   Self-emp-not-inc   83311   Bachelors             13   \n",
       "1   38            Private  215646     HS-grad              9   \n",
       "2   53            Private  234721        11th              7   \n",
       "3   28            Private  338409   Bachelors             13   \n",
       "4   37            Private  284582     Masters             14   \n",
       "\n",
       "        marital-status          occupation    relationship    race      sex  \\\n",
       "0   Married-civ-spouse     Exec-managerial         Husband   White     Male   \n",
       "1             Divorced   Handlers-cleaners   Not-in-family   White     Male   \n",
       "2   Married-civ-spouse   Handlers-cleaners         Husband   Black     Male   \n",
       "3   Married-civ-spouse      Prof-specialty            Wife   Black   Female   \n",
       "4   Married-civ-spouse     Exec-managerial            Wife   White   Female   \n",
       "\n",
       "   capital-gain  capital-loss  hours-per-week  native-country  income  \n",
       "0             0             0              13   United-States   <=50K  \n",
       "1             0             0              40   United-States   <=50K  \n",
       "2             0             0              40   United-States   <=50K  \n",
       "3             0             0              40            Cuba   <=50K  \n",
       "4             0             0              40   United-States   <=50K  "
      ]
     },
     "execution_count": 13,
     "metadata": {},
     "output_type": "execute_result"
    }
   ],
   "source": [
    "df_vis = pd.read_csv(\"adult.csv\")\n",
    "df_vis.columns=[\"age\", \"workclass\", \"fnlwgt\", \"education\",\"education-num\",\"marital-status\",\"occupation\",\"relationship\",\"race\",\"sex\",\"capital-gain\",\"capital-loss\",\"hours-per-week\",\"native-country\",\"income\"]\n",
    "df_vis.head()"
   ]
  },
  {
   "cell_type": "code",
   "execution_count": 14,
   "metadata": {},
   "outputs": [],
   "source": [
    "import matplotlib.pyplot as plt"
   ]
  },
  {
   "cell_type": "code",
   "execution_count": 15,
   "metadata": {},
   "outputs": [],
   "source": [
    "df_vis['income'] = df_vis['income'].apply(lambda x: -1 if x==' <=50K' else 1)"
   ]
  },
  {
   "cell_type": "code",
   "execution_count": 16,
   "metadata": {},
   "outputs": [
    {
     "data": {
      "text/plain": [
       "[<matplotlib.lines.Line2D at 0x21ffce77d30>]"
      ]
     },
     "execution_count": 16,
     "metadata": {},
     "output_type": "execute_result"
    },
    {
     "data": {
      "image/png": "[encoded data removed]",
      "text/plain": [
       "<Figure size 720x432 with 1 Axes>"
      ]
     },
     "metadata": {
      "needs_background": "light"
     },
     "output_type": "display_data"
    }
   ],
   "source": [
    "plt.figure(figsize=(10,6))\n",
    "plt.plot(range(df_vis.shape[0])[:100], df_vis['age'].iloc[:100])"
   ]
  },
  {
   "cell_type": "code",
   "execution_count": 18,
   "metadata": {},
   "outputs": [
    {
     "data": {
      "text/plain": [
       "<matplotlib.collections.PathCollection at 0x21ffd582390>"
      ]
     },
     "execution_count": 18,
     "metadata": {},
     "output_type": "execute_result"
    },
    {
     "data": {
      "image/png": "[encoded data removed]",
      "text/plain": [
       "<Figure size 720x432 with 1 Axes>"
      ]
     },
     "metadata": {
      "needs_background": "light"
     },
     "output_type": "display_data"
    }
   ],
   "source": [
    "plt.figure(figsize=(10,6))\n",
    "plt.title(\"fnlwgt vs age graph\")\n",
    "plt.xlabel(\"age\")\n",
    "plt.ylabel(\"fnlwgt\")\n",
    "l1 = list(zip(df_vis['age'],df_vis['fnlwgt']))\n",
    "l1 = sorted(l1, key=lambda x:x[0])\n",
    "plt.scatter([x[0] for x in l1], [x[1] for x in l1])"
   ]
  },
  {
   "cell_type": "code",
   "execution_count": 19,
   "metadata": {},
   "outputs": [
    {
     "data": {
      "text/plain": [
       "<matplotlib.collections.PathCollection at 0x21ffd131470>"
      ]
     },
     "execution_count": 19,
     "metadata": {},
     "output_type": "execute_result"
    },
    {
     "data": {
      "image/png": "[encoded data removed]",
      "text/plain": [
       "<Figure size 720x432 with 1 Axes>"
      ]
     },
     "metadata": {
      "needs_background": "light"
     },
     "output_type": "display_data"
    }
   ],
   "source": [
    "plt.figure(figsize=(10,6))\n",
    "plt.title(\"hours-per-week vs age graph\")\n",
    "plt.xlabel(\"age\")\n",
    "plt.ylabel(\"hours-per-week\")\n",
    "l1 = list(zip(df_vis['age'],df_vis['hours-per-week']))\n",
    "l1 = sorted(l1, key=lambda x:x[0])\n",
    "plt.scatter([x[0] for x in l1], [x[1] for x in l1])"
   ]
  },
  {
   "cell_type": "markdown",
   "metadata": {},
   "source": [
    "# III. Method\n"
   ]
  },
  {
   "cell_type": "markdown",
   "metadata": {},
   "source": [
    "## A. Summary of Classification models\n",
    "### Summary of Classification algorithms\n",
    "\n",
    "### Pocket algorithm\n",
    "* Pocket algorithm is based on perceptron leaning.\n",
    "* Pocket algorithm is same as perceptron, only thing different in pocket algorithm is we keep track of weight which gave us best results on trainig.\n",
    "* Pocket Algorithm is binary classifier algorithm.\n",
    "* Following equation will cover both positive and negative class case in classification. Its also weight update step.\n",
    "$$\n",
    "w^{(k+1)} = w^{(k)} + \\alpha t_i x_i\n",
    "$$\n",
    "\n",
    "### QDA\n",
    "* Gaussian assumption is:\n",
    "\n",
    "$$\n",
    "p(x \\mid T = k) = \\frac{1}{(2\\pi)^{\\frac{d}{2}} \\vert \\boldsymbol\\Sigma_k \\vert^{\\frac{1}{2}}} e^{ -\\frac{1}{2} (x - \\boldsymbol\\mu_k)^\\top \\boldsymbol\\Sigma_k^{-1} (x - \\boldsymbol\\mu_k) }.\n",
    "$$\n",
    "* We can plug this gassian equation into bayes rule and we get : \n",
    "$$\n",
    "P(T = k \\mid x) = \\frac{ \\Big( (2\\pi)^{\\frac{d}{2}} \\vert \\boldsymbol\\Sigma_k \\vert^{\\frac{1}{2}} \\Big)^{-1} e^{ -\\frac{1}{2} (x - \\boldsymbol\\mu_k)^\\top \\boldsymbol\\Sigma_k^{-1} (x - \\boldsymbol\\mu_k)} P(T = k)} { P(x) }.\n",
    "$$\n",
    "* Now in case of binary classification if class $k \\in \\{-1, +1\\}$, then we can say data $x$ is from +1 class if following equation is true.\n",
    "$$\n",
    "P(T = +1 \\mid x) > P(T = -1 \\mid x).\n",
    "$$\n",
    "* In above equation we can use naive bayes and gausian assumption.\n",
    "* In QDA there is no assumption that the covariance of each of the classes is identical. So for each class we have different covariance matrix.\n",
    "* Final equation in qda is :\n",
    "$$\n",
    "\\delta_k(x) = -\\frac{1}{2} \\ln \\vert \\boldsymbol\\Sigma_k \\vert - \\frac{1}{2} (x - \\boldsymbol\\mu_k)^\\top \\boldsymbol\\Sigma_k^{-1} (x - \\boldsymbol\\mu_k) + \\ln P(T = k). \n",
    "$$\n",
    "\n",
    "* And for a new sample $\\tilde{x}$, we can predict the label by taking argmax of delta function.\n",
    "\n",
    "$$\n",
    "y = \\arg\\max_k \\delta_k(\\tilde{x}). \n",
    "$$\n",
    "### LDA\n",
    "* LDA makes few assumption :\n",
    "    - Multivariate normality: Independent variables are normal for each level of the grouping variable.\n",
    "    - Homogeneity of variance/covariance (homoscedasticity): Variances among group variables are the same across levels of predictors. Can be tested with Box's M statistic.It has been suggested, however, that linear discriminant analysis be used when covariances are equal, and that quadratic discriminant analysis may be used when covariances are not equal.\n",
    "    - Multicollinearity: Predictive power can decrease with an increased correlation between predictor variables.\n",
    "    - Independence: Participants are assumed to be randomly sampled, and a participant’s score on one variable is assumed to be independent of scores on that variable for all other participants.\n",
    "* LDA final eqauation is same almost same as QDA ,in LDA we have same covariance matrix for class.\n",
    "* Final Eqation of LDA looks as follows : \n",
    "$$\n",
    "\\delta_k(x) = x^\\top \\boldsymbol\\Sigma^{-1} \\boldsymbol\\mu_+ -\\frac{1}{2} \\boldsymbol\\mu_+^\\top \\boldsymbol\\Sigma^{-1}\\boldsymbol\\mu_k + \\ln P(T = k).\n",
    "$$\n",
    "$$\n",
    "y = \\arg\\max_k \\delta_k(\\tilde{x}). \n",
    "$$\n",
    "\n",
    "### Logistic regression\n",
    "* Logistic regression uses an equation as the representation, very much like linear regression.\n",
    "* Input values (x) are combined linearly using weights or coefficient values (referred to as the Greek capital letter Beta) to predict an output value (y). A key difference from linear regression is that the output value being modeled is a binary values (0 or 1) rather than a numeric value.\n",
    "* In logistic regression we can use either sigmoid or softmax function to model output in range (0,1).\n"
   ]
  },
  {
   "cell_type": "markdown",
   "metadata": {},
   "source": [
    "## B. Explanation of codes\n",
    "* To implement these four classification algorithms i have created four classed with name pocketClassifier, qda, lda, and LogisticRegressoin.\n",
    "* Classifier abstract base class is inherited in to all of those classifier which define some useful methods like add_ones, normalize and also two abstract method train and use.\n",
    "* I have initialized all the weights with random number. For random number i have used constant seed. So that we get consistance random initialization.\n",
    "* For pocket algorithm and logistic regression this are the keyword argument that you can pass.\n",
    "    -  maxiter = maximum number of iteration to try\n",
    "    -  init = which initializatin for weight matrix\n",
    "    -  alpha = learning rate for pocketClassifier model\n",
    "    -  verbose = bool value whether to print more information or not\n",
    "* Logistic regression algorithm implememts one method used softmax."
   ]
  },
  {
   "cell_type": "markdown",
   "metadata": {},
   "source": [
    "## C. Pocket, LDA, QDA, Logistic Regression"
   ]
  },
  {
   "cell_type": "markdown",
   "metadata": {},
   "source": [
    "### 1. Super Classs Definition"
   ]
  },
  {
   "cell_type": "code",
   "execution_count": 340,
   "metadata": {},
   "outputs": [],
   "source": [
    "import numpy as np\n",
    "from abc import ABC, abstractmethod\n",
    "\n",
    "# Super class for machine learning models \n",
    "\n",
    "class BaseModel(ABC):\n",
    "    \"\"\" Super class for ITCS Machine Learning Class\"\"\"\n",
    "    \n",
    "    @abstractmethod\n",
    "    def train(self, X, T):\n",
    "        pass\n",
    "\n",
    "    @abstractmethod\n",
    "    def use(self, X):\n",
    "        pass\n",
    "\n",
    "    \n",
    "\n",
    "class Classifier(BaseModel):\n",
    "    \"\"\"\n",
    "        Abstract class for classification \n",
    "        \n",
    "        Attributes\n",
    "        ==========\n",
    "        meanX       ndarray\n",
    "                    mean of inputs (from standardization)\n",
    "        stdX        ndarray\n",
    "                    standard deviation of inputs (standardization)\n",
    "    \"\"\"\n",
    "\n",
    "    def __init__(self, ):\n",
    "        self.meanX = None\n",
    "        self.stdX = None\n",
    "\n",
    "    def normalize(self, X):\n",
    "        \"\"\" standardize the input X \"\"\"\n",
    "        \n",
    "        if not isinstance(X, np.ndarray):\n",
    "            X = np.asanyarray(X)\n",
    "\n",
    "        self.meanX = np.mean(X, 0)\n",
    "        self.stdX = np.std(X, 0)\n",
    "\n",
    "        up = X - self.meanX\n",
    "        Xs = np.divide(up, self.stdX, out=np.zeros_like(up), where=self.stdX!=0)\n",
    "        return Xs\n",
    "\n",
    "    def _check_matrix(self, mat, name):\n",
    "        if len(mat.shape) != 2:\n",
    "            raise ValueError(''.join([\"Wrong matrix \", name]))\n",
    "        \n",
    "    # add a basis\n",
    "    def add_ones(self, X):\n",
    "        \"\"\"\n",
    "            add a column basis to X input matrix\n",
    "        \"\"\"\n",
    "        self._check_matrix(X, 'X')\n",
    "        return np.hstack((np.ones((X.shape[0], 1)), X))\n",
    "\n",
    "    ####################################################\n",
    "    #### abstract funcitons ############################\n",
    "    @abstractmethod\n",
    "    def train(self, X, T):\n",
    "        pass\n",
    "    \n",
    "    @abstractmethod\n",
    "    def use(self, X):\n",
    "        pass "
   ]
  },
  {
   "cell_type": "markdown",
   "metadata": {},
   "source": [
    "### 2. Pocket Algorithm\n"
   ]
  },
  {
   "cell_type": "code",
   "execution_count": 341,
   "metadata": {},
   "outputs": [],
   "source": [
    "class pocketClassifier(Classifier):\n",
    "    \n",
    "    def __init__(self,**kwargs):\n",
    "        '''\n",
    "            Init will take follwing kwargs:\n",
    "            maxiter = maximum number of iteration to try\n",
    "            init = which initializatin for weight matrix\n",
    "            alpha = learning rate for pocketClassifier model\n",
    "            verbose = bool value whether to print more information or not\n",
    "        '''\n",
    "        self.w = None\n",
    "        self.maxiter = 10\n",
    "        self.alpha = 0.1\n",
    "        super(pocketClassifier,self).__init__()\n",
    "        self.__dict__.update(kwargs)\n",
    "        self.w_pocket = None\n",
    "\n",
    "        \n",
    "    # better function will return True if w is better than w_pocket othewise false\n",
    "    def better(self ,X, T):\n",
    "        yw = np.sign(X@self.w)\n",
    "        yp = np.sign(X@self.w_pocket)\n",
    "        return np.sum(yw == T) > np.sum(yp == T)\n",
    "    \n",
    "    def train(self,X,T):\n",
    "        from copy import copy\n",
    "        X = self.add_ones(X)\n",
    "        self.w = np.random.rand(X.shape[1])\n",
    "        self.w_pocket = np.random.rand(X.shape[1])\n",
    "        print(X.shape, self.w_pocket.shape)\n",
    "        for i in range(self.maxiter):\n",
    "            \n",
    "            converge = True\n",
    "            for j in range(X.shape[0]):\n",
    "            \n",
    "                y = self.w @ X[j]\n",
    "                if np.sign(y) != np.sign(T[j]):\n",
    "                    self.w += self.alpha * T[j] * X[j]\n",
    "                    converge = False\n",
    "                    if self.better(X, T):\n",
    "                        self.w_pocket = copy(self.w)\n",
    "            if converge:\n",
    "                print(\"Converged At iteration : \",i)\n",
    "                break\n",
    "             \n",
    "    def use(self,X):\n",
    "        print(X.shape, self.w_pocket.shape)\n",
    "        X = self.add_ones(X)\n",
    "        return X@self.w_pocket"
   ]
  },
  {
   "cell_type": "markdown",
   "metadata": {},
   "source": [
    "### 3. QDA"
   ]
  },
  {
   "cell_type": "code",
   "execution_count": 342,
   "metadata": {},
   "outputs": [],
   "source": [
    "class qda(Classifier):\n",
    "    def __init__(self,**kwargs):\n",
    "        super(qda,self).__init__(**kwargs)\n",
    "        self.__dict__.update(**kwargs)\n",
    "        \n",
    "        \n",
    "    '''\n",
    "        X and T expected to be numpy array\n",
    "    '''\n",
    "    def train(self,X,T):\n",
    "        from collections import Counter\n",
    "        cntr = Counter(T)\n",
    "        self.classes = list(cntr.keys())\n",
    "        self.total = T.shape[0]\n",
    "        self.prior = dict( (key, cntr[key]/self.total) for key in self.classes)\n",
    "#         X = self.normalize(X)\n",
    "        \n",
    "        # following block will calculate cov matrix for each class and store it into a dictionary\n",
    "        self.cov_ = dict((key,None) for key in self.classes)\n",
    "        for key in self.classes:\n",
    "            temparr = np.array([ar for i,ar in enumerate(X) if T[i] == key])\n",
    "            cov_ = np.cov(temparr.T)\n",
    "            self.cov_.update({key:cov_})\n",
    "        \n",
    "        # calculating mean of each feature\n",
    "        self.mean = dict((key,None) for key in self.classes)\n",
    "        for key in self.classes:\n",
    "            temparr = np.array([ar for i,ar in enumerate(X) if T[i] == key])\n",
    "            mu = np.mean(temparr,0)\n",
    "            self.mean.update({key:mu})\n",
    "    \n",
    "    #following function will calculate log probability \n",
    "    def discriminant_function(self,X,key):\n",
    "        import numpy as np\n",
    "        return -0.5 * np.log(np.linalg.det(np.abs(self.cov_[key]))) \\\n",
    "                -0.5 * np.sum(np.dot((X - self.mean[key]), np.linalg.pinv(np.abs(self.cov_[key]))) * (X - self.mean[key]),axis=1) \\\n",
    "                + np.log(self.prior[key])\n",
    "        \n",
    "    def use(self,X):\n",
    "        res = []\n",
    "        for c in self.classes:\n",
    "            res.append(self.discriminant_function(X, c))\n",
    "        return list(map(lambda x:self.classes[x],np.argmax(list(zip(*res)),axis=1)))\n",
    "            "
   ]
  },
  {
   "cell_type": "markdown",
   "metadata": {},
   "source": [
    "### 4. LDA"
   ]
  },
  {
   "cell_type": "code",
   "execution_count": 343,
   "metadata": {},
   "outputs": [],
   "source": [
    "class lda(Classifier):\n",
    "    \n",
    "    def __init__(self,**kwargs):\n",
    "        super(lda,self).__init__(**kwargs)\n",
    "        self.__dict__.update(**kwargs)\n",
    "        \n",
    "    def train(self,X,T):\n",
    "        from collections import Counter\n",
    "        import numpy as np\n",
    "        cntr = Counter(T)\n",
    "        self.classes = list(cntr.keys())\n",
    "        self.total = T.shape[0]\n",
    "        self.prior = dict( (key, cntr[key]/self.total) for key in self.classes)\n",
    "#         X = self.normalize(X)\n",
    "        self.cov_ = np.cov(X.T)\n",
    "        self.invcov = np.linalg.pinv(self.cov_)\n",
    "        \n",
    "        # calculating mean of each feature\n",
    "        self.mean = dict((key,None) for key in self.classes)\n",
    "        for key in self.classes:\n",
    "            temparr = np.array([ar for i,ar in enumerate(X) if T[i] == key])\n",
    "            mu = np.mean(temparr,0)\n",
    "            assert mu.shape[0] == X.shape[1],\"Mean function call wrong\"\n",
    "            self.mean.update({key:mu})\n",
    "     \n",
    "    #following function will calculate log probability \n",
    "    def discriminant_function(self,X,key):\n",
    "        return np.sum(np.dot(X,self.invcov)*self.mean[key],axis=1)\\\n",
    "                - np.sum(0.5*np.dot(self.mean[key],self.invcov)*self.mean[key])\\\n",
    "                + np.log(self.prior[key])\n",
    "                \n",
    "    \n",
    "    def use(self,X):\n",
    "        res = []\n",
    "        for c in self.classes:\n",
    "            res.append(self.discriminant_function(X,c))\n",
    "        return list(map(lambda x:self.classes[x],np.argmax(list(zip(*res)),axis=1)))"
   ]
  },
  {
   "cell_type": "markdown",
   "metadata": {},
   "source": [
    "### 5. Logistic Regression"
   ]
  },
  {
   "cell_type": "code",
   "execution_count": 344,
   "metadata": {},
   "outputs": [],
   "source": [
    "class LogisticRegression(Classifier):\n",
    "    \n",
    "    def __init__(self,**kwargs):\n",
    "        '''\n",
    "            Init will take follwing kwargs:\n",
    "            maxiter = maximum number of iteration to try\n",
    "            init = which initializatin for weight matrix\n",
    "            alpha = learning rate for LogisticRegression model\n",
    "            verbose = bool value whether to print more information or not\n",
    "        '''\n",
    "        super(LogisticRegression,self).__init__()\n",
    "        # default values of hyper-parameters\n",
    "        self.w = None\n",
    "        self.maxiter = 10\n",
    "        self.init = 'rand'\n",
    "        self.alpha = 0.1\n",
    "        self.verbose = True\n",
    "        self.__dict__.update(**kwargs)\n",
    "    \n",
    "    def initW(self, x, y):\n",
    "        import numpy as np\n",
    "        np.random.seed(self.seed)\n",
    "        if self.init == 'zero':\n",
    "            self.w = np.zeros((x,y))\n",
    "        if self.init == 'ones':\n",
    "            self.w = np.ones((x,y))\n",
    "        if self.init == 'rand':\n",
    "            self.w = np.random.rand(x,y)*2-1\n",
    "\n",
    "    def softmax(self,X):\n",
    "        import numpy as np\n",
    "        ex = np.exp(X)\n",
    "        if len(X.shape)==1:\n",
    "            return ex/np.sum(ex)\n",
    "        else:\n",
    "            return ex/np.sum(ex,axis=1,keepdims=True)\n",
    "    \n",
    "    def fx(self,X):\n",
    "        return self.softmax(X@self.w)\n",
    "    \n",
    "    def train(self,X,T):\n",
    "        import numpy as np\n",
    "        import pandas as pd\n",
    "        X = self.normalize(X)\n",
    "        X = self.add_ones(X)\n",
    "        \n",
    "        # transforming T in one hot encoded vector\n",
    "        T = pd.get_dummies(T)\n",
    "        self.classes = T.columns.values\n",
    "        \n",
    "        self.initW(X.shape[1],T.shape[1])\n",
    "        for k in range(self.maxiter):\n",
    "            \n",
    "            if self.verbose:\n",
    "                if (k+1)%int(self.maxiter/10)==0:\n",
    "                    print(\"Iteration : \",k+1,\" .....\")\n",
    "            y = self.fx(X)\n",
    "            self.w += self.alpha * X.T @ (T - y)  \n",
    "            \n",
    "    def use(self,X):\n",
    "        X = self.add_ones(X)\n",
    "        return [ self.classes[i] for i in np.argmax(self.fx(X),axis=1)]\n",
    "    "
   ]
  },
  {
   "cell_type": "markdown",
   "metadata": {},
   "source": [
    "# IV. Experiments\n",
    "\n"
   ]
  },
  {
   "cell_type": "markdown",
   "metadata": {},
   "source": [
    "## A. Discussion about evaluation metrics"
   ]
  },
  {
   "cell_type": "markdown",
   "metadata": {},
   "source": [
    "* For evaluating classification result we can use many method.\n",
    "* We have used 3 accuracy metrics.\n",
    "    1. Accuracy\n",
    "    2. Confusion Matrix\n",
    "    3. ROC curve    "
   ]
  },
  {
   "cell_type": "markdown",
   "metadata": {},
   "source": [
    "* Accuracy : For our binary classification task we can use number of correct predicted divided by total input size.\n",
    "\n",
    "$$\n",
    "accuracy = \\frac{total\\ correct\\ prediction*100}{total\\ number\\ of\\ sample} \\%\n",
    "$$\n",
    "\n",
    "\n",
    "* Roc Curve: \n",
    "    * A receiver operating characteristic curve, or ROC curve, is a graphical plot that illustrates the diagnostic ability of a binary classifier system as its discrimination threshold is varied.\n",
    "    * In order to do this, a model needs to not only correctly predict a positive as a positive, but also a negative as a negative.\n",
    "    * The ROC curve does this by plotting sensitivity, the probability of predicting a real positive will be a positive, against 1-specificity, the probability of predicting a real negative will be a positive.\n",
    "       \n",
    "       \n",
    "* Confusion Matix : \n",
    "    * A confusion matrix is a table that is often used to describe the performance of a classification model (or \"classifier\") on a set of test data for which the true values are known. The confusion matrix itself is relatively simple to understand, but the related terminology can be confusing.\n",
    "    * There are 4 basic terms in confusion matrix:\n",
    "        * true positives (TP): These are cases in which we predicted yes (they have the disease), and they do have the disease.\n",
    "        * true negatives (TN): We predicted no, and they don't have the disease.\n",
    "        * false positives (FP): We predicted yes, but they don't actually have the disease. (Also known as a \"Type I error.\")\n",
    "        * false negatives (FN): We predicted no, but they actually do have the disease. (Also known as a \"Type II error.\")"
   ]
  },
  {
   "cell_type": "markdown",
   "metadata": {},
   "source": [
    "## B. Discussion about train and test accuracies"
   ]
  },
  {
   "cell_type": "markdown",
   "metadata": {},
   "source": [
    "## trainig different classifiers"
   ]
  },
  {
   "cell_type": "code",
   "execution_count": 345,
   "metadata": {},
   "outputs": [],
   "source": [
    "def accuracy(true,predicted):\n",
    "    return np.sum(predicted == true)*100/true.shape[0]\n",
    "\n",
    "def cf_matrix(true,predicted):\n",
    "    cf = pd.crosstab([true], [predicted], \n",
    "                     rownames = ['True'], \n",
    "                     colnames = ['Predicted'], \n",
    "                     margins = True)\n",
    "    return cf"
   ]
  },
  {
   "cell_type": "markdown",
   "metadata": {},
   "source": [
    "### 1. pocket algorithm training"
   ]
  },
  {
   "cell_type": "code",
   "execution_count": 346,
   "metadata": {},
   "outputs": [
    {
     "name": "stdout",
     "output_type": "stream",
     "text": [
      "(22620, 104) (104,)\n"
     ]
    }
   ],
   "source": [
    "pk_clf = pocketClassifier(maxiter = 15, alpha = 0.01)\n",
    "pk_clf.train(xtrain.values, ytrain.values)"
   ]
  },
  {
   "cell_type": "code",
   "execution_count": 347,
   "metadata": {},
   "outputs": [
    {
     "name": "stdout",
     "output_type": "stream",
     "text": [
      "(7541, 103) (104,)\n",
      "(22620, 103) (104,)\n"
     ]
    }
   ],
   "source": [
    "pk_op_test = np.sign(pk_clf.use(xtest.values))\n",
    "pk_op_train = np.sign(pk_clf.use(xtrain.values))"
   ]
  },
  {
   "cell_type": "code",
   "execution_count": 348,
   "metadata": {},
   "outputs": [
    {
     "name": "stdout",
     "output_type": "stream",
     "text": [
      "(78.62511052166225, 79.00808911284976)\n"
     ]
    }
   ],
   "source": [
    "pk_acc = (accuracy(ytrain.values,pk_op_train),accuracy(ytest.values,pk_op_test))\n",
    "print(pk_acc)"
   ]
  },
  {
   "cell_type": "code",
   "execution_count": 349,
   "metadata": {},
   "outputs": [
    {
     "data": {
      "text/html": [
       "<div>\n",
       "<style scoped>\n",
       "    .dataframe tbody tr th:only-of-type {\n",
       "        vertical-align: middle;\n",
       "    }\n",
       "\n",
       "    .dataframe tbody tr th {\n",
       "        vertical-align: top;\n",
       "    }\n",
       "\n",
       "    .dataframe thead th {\n",
       "        text-align: right;\n",
       "    }\n",
       "</style>\n",
       "<table border=\"1\" class=\"dataframe\">\n",
       "  <thead>\n",
       "    <tr style=\"text-align: right;\">\n",
       "      <th>Predicted</th>\n",
       "      <th>-1.0</th>\n",
       "      <th>1.0</th>\n",
       "      <th>All</th>\n",
       "    </tr>\n",
       "    <tr>\n",
       "      <th>True</th>\n",
       "      <th></th>\n",
       "      <th></th>\n",
       "      <th></th>\n",
       "    </tr>\n",
       "  </thead>\n",
       "  <tbody>\n",
       "    <tr>\n",
       "      <th>-1</th>\n",
       "      <td>16521</td>\n",
       "      <td>438</td>\n",
       "      <td>16959</td>\n",
       "    </tr>\n",
       "    <tr>\n",
       "      <th>1</th>\n",
       "      <td>4397</td>\n",
       "      <td>1264</td>\n",
       "      <td>5661</td>\n",
       "    </tr>\n",
       "    <tr>\n",
       "      <th>All</th>\n",
       "      <td>20918</td>\n",
       "      <td>1702</td>\n",
       "      <td>22620</td>\n",
       "    </tr>\n",
       "  </tbody>\n",
       "</table>\n",
       "</div>"
      ],
      "text/plain": [
       "Predicted   -1.0   1.0    All\n",
       "True                         \n",
       "-1         16521   438  16959\n",
       "1           4397  1264   5661\n",
       "All        20918  1702  22620"
      ]
     },
     "execution_count": 349,
     "metadata": {},
     "output_type": "execute_result"
    }
   ],
   "source": [
    "cf_matrix(ytrain, pk_op_train)"
   ]
  },
  {
   "cell_type": "markdown",
   "metadata": {},
   "source": [
    "### 2. QDA training"
   ]
  },
  {
   "cell_type": "code",
   "execution_count": 350,
   "metadata": {},
   "outputs": [],
   "source": [
    "qda_clf = qda()\n",
    "qda_clf.train(xtrain.values, ytrain.values)"
   ]
  },
  {
   "cell_type": "code",
   "execution_count": 351,
   "metadata": {},
   "outputs": [
    {
     "name": "stderr",
     "output_type": "stream",
     "text": [
      "C:\\Anaconda\\lib\\site-packages\\ipykernel_launcher.py:37: RuntimeWarning: divide by zero encountered in log\n"
     ]
    }
   ],
   "source": [
    "qda_op_test = qda_clf.use(xtest.values)\n",
    "qda_op_train = qda_clf.use(xtrain.values)"
   ]
  },
  {
   "cell_type": "code",
   "execution_count": 352,
   "metadata": {},
   "outputs": [
    {
     "name": "stdout",
     "output_type": "stream",
     "text": [
      "(25.02652519893899, 24.49277284179817)\n"
     ]
    }
   ],
   "source": [
    "qda_acc = (accuracy(ytrain.values,qda_op_train),accuracy(ytest.values,qda_op_test))\n",
    "print(qda_acc)"
   ]
  },
  {
   "cell_type": "code",
   "execution_count": 353,
   "metadata": {},
   "outputs": [
    {
     "data": {
      "text/html": [
       "<div>\n",
       "<style scoped>\n",
       "    .dataframe tbody tr th:only-of-type {\n",
       "        vertical-align: middle;\n",
       "    }\n",
       "\n",
       "    .dataframe tbody tr th {\n",
       "        vertical-align: top;\n",
       "    }\n",
       "\n",
       "    .dataframe thead th {\n",
       "        text-align: right;\n",
       "    }\n",
       "</style>\n",
       "<table border=\"1\" class=\"dataframe\">\n",
       "  <thead>\n",
       "    <tr style=\"text-align: right;\">\n",
       "      <th>Predicted</th>\n",
       "      <th>1</th>\n",
       "      <th>All</th>\n",
       "    </tr>\n",
       "    <tr>\n",
       "      <th>True</th>\n",
       "      <th></th>\n",
       "      <th></th>\n",
       "    </tr>\n",
       "  </thead>\n",
       "  <tbody>\n",
       "    <tr>\n",
       "      <th>-1</th>\n",
       "      <td>16959</td>\n",
       "      <td>16959</td>\n",
       "    </tr>\n",
       "    <tr>\n",
       "      <th>1</th>\n",
       "      <td>5661</td>\n",
       "      <td>5661</td>\n",
       "    </tr>\n",
       "    <tr>\n",
       "      <th>All</th>\n",
       "      <td>22620</td>\n",
       "      <td>22620</td>\n",
       "    </tr>\n",
       "  </tbody>\n",
       "</table>\n",
       "</div>"
      ],
      "text/plain": [
       "Predicted      1    All\n",
       "True                   \n",
       "-1         16959  16959\n",
       "1           5661   5661\n",
       "All        22620  22620"
      ]
     },
     "execution_count": 353,
     "metadata": {},
     "output_type": "execute_result"
    }
   ],
   "source": [
    "cf_matrix(ytrain, qda_op_train)"
   ]
  },
  {
   "cell_type": "markdown",
   "metadata": {},
   "source": [
    "### 3. LDA trainining"
   ]
  },
  {
   "cell_type": "code",
   "execution_count": 354,
   "metadata": {},
   "outputs": [],
   "source": [
    "lda_clf = lda()\n",
    "lda_clf.train(xtrain.values, ytrain.values)"
   ]
  },
  {
   "cell_type": "code",
   "execution_count": 355,
   "metadata": {},
   "outputs": [],
   "source": [
    "lda_op_test = lda_clf.use(xtest.values)\n",
    "lda_op_train = lda_clf.use(xtrain.values)"
   ]
  },
  {
   "cell_type": "code",
   "execution_count": 356,
   "metadata": {},
   "outputs": [
    {
     "name": "stdout",
     "output_type": "stream",
     "text": [
      "(82.95313881520778, 83.26481898952393)\n"
     ]
    }
   ],
   "source": [
    "lda_acc = (accuracy(ytrain.values,lda_op_train),accuracy(ytest.values,lda_op_test))\n",
    "print(lda_acc)"
   ]
  },
  {
   "cell_type": "code",
   "execution_count": 357,
   "metadata": {},
   "outputs": [
    {
     "data": {
      "text/html": [
       "<div>\n",
       "<style scoped>\n",
       "    .dataframe tbody tr th:only-of-type {\n",
       "        vertical-align: middle;\n",
       "    }\n",
       "\n",
       "    .dataframe tbody tr th {\n",
       "        vertical-align: top;\n",
       "    }\n",
       "\n",
       "    .dataframe thead th {\n",
       "        text-align: right;\n",
       "    }\n",
       "</style>\n",
       "<table border=\"1\" class=\"dataframe\">\n",
       "  <thead>\n",
       "    <tr style=\"text-align: right;\">\n",
       "      <th>Predicted</th>\n",
       "      <th>-1</th>\n",
       "      <th>1</th>\n",
       "      <th>All</th>\n",
       "    </tr>\n",
       "    <tr>\n",
       "      <th>True</th>\n",
       "      <th></th>\n",
       "      <th></th>\n",
       "      <th></th>\n",
       "    </tr>\n",
       "  </thead>\n",
       "  <tbody>\n",
       "    <tr>\n",
       "      <th>-1</th>\n",
       "      <td>16326</td>\n",
       "      <td>633</td>\n",
       "      <td>16959</td>\n",
       "    </tr>\n",
       "    <tr>\n",
       "      <th>1</th>\n",
       "      <td>3223</td>\n",
       "      <td>2438</td>\n",
       "      <td>5661</td>\n",
       "    </tr>\n",
       "    <tr>\n",
       "      <th>All</th>\n",
       "      <td>19549</td>\n",
       "      <td>3071</td>\n",
       "      <td>22620</td>\n",
       "    </tr>\n",
       "  </tbody>\n",
       "</table>\n",
       "</div>"
      ],
      "text/plain": [
       "Predicted     -1     1    All\n",
       "True                         \n",
       "-1         16326   633  16959\n",
       "1           3223  2438   5661\n",
       "All        19549  3071  22620"
      ]
     },
     "execution_count": 357,
     "metadata": {},
     "output_type": "execute_result"
    }
   ],
   "source": [
    "cf_matrix(ytrain, lda_op_train)"
   ]
  },
  {
   "cell_type": "markdown",
   "metadata": {},
   "source": [
    "### 4. Logistic Regression"
   ]
  },
  {
   "cell_type": "code",
   "execution_count": 358,
   "metadata": {},
   "outputs": [
    {
     "name": "stderr",
     "output_type": "stream",
     "text": [
      "C:\\Anaconda\\lib\\site-packages\\ipykernel_launcher.py:36: RuntimeWarning: invalid value encountered in true_divide\n"
     ]
    },
    {
     "name": "stdout",
     "output_type": "stream",
     "text": [
      "Iteration :  50  .....\n",
      "Iteration :  100  .....\n",
      "Iteration :  150  .....\n",
      "Iteration :  200  .....\n",
      "Iteration :  250  .....\n",
      "Iteration :  300  .....\n",
      "Iteration :  350  .....\n",
      "Iteration :  400  .....\n",
      "Iteration :  450  .....\n",
      "Iteration :  500  .....\n",
      "Alpha :  0.03 Accuracy 75.50722715820183\n",
      "Iteration :  50  .....\n",
      "Iteration :  100  .....\n",
      "Iteration :  150  .....\n",
      "Iteration :  200  .....\n",
      "Iteration :  250  .....\n",
      "Iteration :  300  .....\n",
      "Iteration :  350  .....\n",
      "Iteration :  400  .....\n",
      "Iteration :  450  .....\n",
      "Iteration :  500  .....\n",
      "Alpha :  0.01 Accuracy 75.50722715820183\n",
      "Iteration :  50  .....\n",
      "Iteration :  100  .....\n",
      "Iteration :  150  .....\n",
      "Iteration :  200  .....\n",
      "Iteration :  250  .....\n",
      "Iteration :  300  .....\n",
      "Iteration :  350  .....\n",
      "Iteration :  400  .....\n",
      "Iteration :  450  .....\n",
      "Iteration :  500  .....\n",
      "Alpha :  0.003 Accuracy 24.49277284179817\n",
      "Iteration :  50  .....\n",
      "Iteration :  100  .....\n",
      "Iteration :  150  .....\n",
      "Iteration :  200  .....\n",
      "Iteration :  250  .....\n",
      "Iteration :  300  .....\n",
      "Iteration :  350  .....\n",
      "Iteration :  400  .....\n",
      "Iteration :  450  .....\n",
      "Iteration :  500  .....\n",
      "Alpha :  0.001 Accuracy 73.13353666622464\n",
      "Iteration :  50  .....\n",
      "Iteration :  100  .....\n",
      "Iteration :  150  .....\n",
      "Iteration :  200  .....\n",
      "Iteration :  250  .....\n",
      "Iteration :  300  .....\n",
      "Iteration :  350  .....\n",
      "Iteration :  400  .....\n",
      "Iteration :  450  .....\n",
      "Iteration :  500  .....\n",
      "Alpha :  0.0003 Accuracy 76.63439862087256\n",
      "Iteration :  50  .....\n",
      "Iteration :  100  .....\n",
      "Iteration :  150  .....\n",
      "Iteration :  200  .....\n",
      "Iteration :  250  .....\n",
      "Iteration :  300  .....\n",
      "Iteration :  350  .....\n",
      "Iteration :  400  .....\n",
      "Iteration :  450  .....\n",
      "Iteration :  500  .....\n",
      "Alpha :  0.0001 Accuracy 75.865269858109\n",
      "Iteration :  50  .....\n",
      "Iteration :  100  .....\n",
      "Iteration :  150  .....\n",
      "Iteration :  200  .....\n",
      "Iteration :  250  .....\n",
      "Iteration :  300  .....\n",
      "Iteration :  350  .....\n",
      "Iteration :  400  .....\n",
      "Iteration :  450  .....\n",
      "Iteration :  500  .....\n",
      "Alpha :  3e-05 Accuracy 75.75918313221058\n",
      "Iteration :  50  .....\n",
      "Iteration :  100  .....\n",
      "Iteration :  150  .....\n",
      "Iteration :  200  .....\n",
      "Iteration :  250  .....\n",
      "Iteration :  300  .....\n",
      "Iteration :  350  .....\n",
      "Iteration :  400  .....\n",
      "Iteration :  450  .....\n",
      "Iteration :  500  .....\n",
      "Alpha :  1e-05 Accuracy 75.74592229147328\n",
      "Iteration :  50  .....\n",
      "Iteration :  100  .....\n",
      "Iteration :  150  .....\n",
      "Iteration :  200  .....\n",
      "Iteration :  250  .....\n",
      "Iteration :  300  .....\n",
      "Iteration :  350  .....\n",
      "Iteration :  400  .....\n",
      "Iteration :  450  .....\n",
      "Iteration :  500  .....\n",
      "Alpha :  3e-06 Accuracy 75.73266145073597\n",
      "Iteration :  50  .....\n",
      "Iteration :  100  .....\n",
      "Iteration :  150  .....\n",
      "Iteration :  200  .....\n",
      "Iteration :  250  .....\n",
      "Iteration :  300  .....\n",
      "Iteration :  350  .....\n",
      "Iteration :  400  .....\n",
      "Iteration :  450  .....\n",
      "Iteration :  500  .....\n",
      "Alpha :  1e-06 Accuracy 75.70613976926137\n",
      "Best Accuracy : 76.63439862087256 for alpha value of : 0.0003\n"
     ]
    }
   ],
   "source": [
    "# This function will iterate over different values of alphas and return best model\n",
    "def train_over_aplha():\n",
    "    alpha = [0.03,0.01,0.003,0.001,0.0003,0.0001,0.00003,0.00001,0.000003,0.000001]\n",
    "    results = {}\n",
    "    best_acc = 0\n",
    "    best_alpha = 0\n",
    "    best_model = None\n",
    "\n",
    "    for a in alpha:\n",
    "        lr_clf = LogisticRegression(maxiter = 500, alpha = a, seed=42)\n",
    "        \n",
    "        lr_clf.train(xtrain.values,ytrain)\n",
    "        lr_op = lr_clf.use(xtest.values)\n",
    "        \n",
    "        acc = accuracy(ytest,lr_op)\n",
    "        results[a] = acc\n",
    "        \n",
    "        print(\"Alpha : \",a,\"Accuracy\",acc)\n",
    "        \n",
    "        if acc>best_acc:\n",
    "            best_acc = acc\n",
    "            best_alpha = a\n",
    "            best_model = lr_clf\n",
    "    \n",
    "    print(\"Best Accuracy :\", best_acc, \"for alpha value of :\",best_alpha)\n",
    "    return best_model,results\n",
    "\n",
    "lr_clf,results = train_over_aplha()"
   ]
  },
  {
   "cell_type": "markdown",
   "metadata": {},
   "source": [
    "### 1.  Pocket Algorithm train and test accuracy"
   ]
  },
  {
   "cell_type": "code",
   "execution_count": 359,
   "metadata": {},
   "outputs": [
    {
     "name": "stdout",
     "output_type": "stream",
     "text": [
      "(7541, 103) (104,)\n",
      "(22620, 103) (104,)\n",
      " Train accuracy :  78.62511052166225 % \n",
      " Test accuracy :  79.00808911284976 %\n"
     ]
    }
   ],
   "source": [
    "pk_op_test = np.sign(pk_clf.use(xtest.values))\n",
    "pk_op_train = np.sign(pk_clf.use(xtrain.values))\n",
    "pk_acc = (accuracy(ytrain.values,pk_op_train),accuracy(ytest.values,pk_op_test))\n",
    "print(\" Train accuracy : \", pk_acc[0], \"%\", \"\\n Test accuracy : \", pk_acc[1] ,\"%\")"
   ]
  },
  {
   "cell_type": "code",
   "execution_count": 360,
   "metadata": {},
   "outputs": [
    {
     "data": {
      "text/html": [
       "<div>\n",
       "<style scoped>\n",
       "    .dataframe tbody tr th:only-of-type {\n",
       "        vertical-align: middle;\n",
       "    }\n",
       "\n",
       "    .dataframe tbody tr th {\n",
       "        vertical-align: top;\n",
       "    }\n",
       "\n",
       "    .dataframe thead th {\n",
       "        text-align: right;\n",
       "    }\n",
       "</style>\n",
       "<table border=\"1\" class=\"dataframe\">\n",
       "  <thead>\n",
       "    <tr style=\"text-align: right;\">\n",
       "      <th>Predicted</th>\n",
       "      <th>-1.0</th>\n",
       "      <th>1.0</th>\n",
       "      <th>All</th>\n",
       "    </tr>\n",
       "    <tr>\n",
       "      <th>True</th>\n",
       "      <th></th>\n",
       "      <th></th>\n",
       "      <th></th>\n",
       "    </tr>\n",
       "  </thead>\n",
       "  <tbody>\n",
       "    <tr>\n",
       "      <th>-1</th>\n",
       "      <td>16521</td>\n",
       "      <td>438</td>\n",
       "      <td>16959</td>\n",
       "    </tr>\n",
       "    <tr>\n",
       "      <th>1</th>\n",
       "      <td>4397</td>\n",
       "      <td>1264</td>\n",
       "      <td>5661</td>\n",
       "    </tr>\n",
       "    <tr>\n",
       "      <th>All</th>\n",
       "      <td>20918</td>\n",
       "      <td>1702</td>\n",
       "      <td>22620</td>\n",
       "    </tr>\n",
       "  </tbody>\n",
       "</table>\n",
       "</div>"
      ],
      "text/plain": [
       "Predicted   -1.0   1.0    All\n",
       "True                         \n",
       "-1         16521   438  16959\n",
       "1           4397  1264   5661\n",
       "All        20918  1702  22620"
      ]
     },
     "execution_count": 360,
     "metadata": {},
     "output_type": "execute_result"
    }
   ],
   "source": [
    "cf_matrix(ytrain, pk_op_train)"
   ]
  },
  {
   "cell_type": "markdown",
   "metadata": {},
   "source": [
    "### 2. QDA train and test accuracy"
   ]
  },
  {
   "cell_type": "code",
   "execution_count": 361,
   "metadata": {},
   "outputs": [
    {
     "name": "stderr",
     "output_type": "stream",
     "text": [
      "C:\\Anaconda\\lib\\site-packages\\ipykernel_launcher.py:37: RuntimeWarning: divide by zero encountered in log\n"
     ]
    },
    {
     "name": "stdout",
     "output_type": "stream",
     "text": [
      " Train accuracy :  25.02652519893899 % \n",
      " Test accuracy :  24.49277284179817 %\n"
     ]
    }
   ],
   "source": [
    "qda_op_test = qda_clf.use(xtest.values)\n",
    "qda_op_train = qda_clf.use(xtrain.values)\n",
    "qda_acc = (accuracy(ytrain.values,qda_op_train),accuracy(ytest.values,qda_op_test))\n",
    "print(\" Train accuracy : \", qda_acc[0], \"%\", \"\\n Test accuracy : \", qda_acc[1] ,\"%\")"
   ]
  },
  {
   "cell_type": "code",
   "execution_count": 362,
   "metadata": {},
   "outputs": [
    {
     "data": {
      "text/html": [
       "<div>\n",
       "<style scoped>\n",
       "    .dataframe tbody tr th:only-of-type {\n",
       "        vertical-align: middle;\n",
       "    }\n",
       "\n",
       "    .dataframe tbody tr th {\n",
       "        vertical-align: top;\n",
       "    }\n",
       "\n",
       "    .dataframe thead th {\n",
       "        text-align: right;\n",
       "    }\n",
       "</style>\n",
       "<table border=\"1\" class=\"dataframe\">\n",
       "  <thead>\n",
       "    <tr style=\"text-align: right;\">\n",
       "      <th>Predicted</th>\n",
       "      <th>1</th>\n",
       "      <th>All</th>\n",
       "    </tr>\n",
       "    <tr>\n",
       "      <th>True</th>\n",
       "      <th></th>\n",
       "      <th></th>\n",
       "    </tr>\n",
       "  </thead>\n",
       "  <tbody>\n",
       "    <tr>\n",
       "      <th>-1</th>\n",
       "      <td>16959</td>\n",
       "      <td>16959</td>\n",
       "    </tr>\n",
       "    <tr>\n",
       "      <th>1</th>\n",
       "      <td>5661</td>\n",
       "      <td>5661</td>\n",
       "    </tr>\n",
       "    <tr>\n",
       "      <th>All</th>\n",
       "      <td>22620</td>\n",
       "      <td>22620</td>\n",
       "    </tr>\n",
       "  </tbody>\n",
       "</table>\n",
       "</div>"
      ],
      "text/plain": [
       "Predicted      1    All\n",
       "True                   \n",
       "-1         16959  16959\n",
       "1           5661   5661\n",
       "All        22620  22620"
      ]
     },
     "execution_count": 362,
     "metadata": {},
     "output_type": "execute_result"
    }
   ],
   "source": [
    "cf_matrix(ytrain, qda_op_train)"
   ]
  },
  {
   "cell_type": "markdown",
   "metadata": {},
   "source": [
    "### 3. LDA train and test accuracy"
   ]
  },
  {
   "cell_type": "code",
   "execution_count": 363,
   "metadata": {},
   "outputs": [],
   "source": [
    "lda_op_test = lda_clf.use(xtest.values)\n",
    "lda_op_train = lda_clf.use(xtrain.values)"
   ]
  },
  {
   "cell_type": "code",
   "execution_count": 364,
   "metadata": {},
   "outputs": [
    {
     "name": "stdout",
     "output_type": "stream",
     "text": [
      " Train accuracy :  82.95313881520778 % \n",
      " Test accuracy :  83.26481898952393 %\n"
     ]
    }
   ],
   "source": [
    "lda_acc = (accuracy(ytrain.values,lda_op_train),accuracy(ytest.values,lda_op_test))\n",
    "print(\" Train accuracy : \", lda_acc[0], \"%\", \"\\n Test accuracy : \", lda_acc[1] ,\"%\")"
   ]
  },
  {
   "cell_type": "code",
   "execution_count": 365,
   "metadata": {},
   "outputs": [
    {
     "data": {
      "text/html": [
       "<div>\n",
       "<style scoped>\n",
       "    .dataframe tbody tr th:only-of-type {\n",
       "        vertical-align: middle;\n",
       "    }\n",
       "\n",
       "    .dataframe tbody tr th {\n",
       "        vertical-align: top;\n",
       "    }\n",
       "\n",
       "    .dataframe thead th {\n",
       "        text-align: right;\n",
       "    }\n",
       "</style>\n",
       "<table border=\"1\" class=\"dataframe\">\n",
       "  <thead>\n",
       "    <tr style=\"text-align: right;\">\n",
       "      <th>Predicted</th>\n",
       "      <th>-1</th>\n",
       "      <th>1</th>\n",
       "      <th>All</th>\n",
       "    </tr>\n",
       "    <tr>\n",
       "      <th>True</th>\n",
       "      <th></th>\n",
       "      <th></th>\n",
       "      <th></th>\n",
       "    </tr>\n",
       "  </thead>\n",
       "  <tbody>\n",
       "    <tr>\n",
       "      <th>-1</th>\n",
       "      <td>16326</td>\n",
       "      <td>633</td>\n",
       "      <td>16959</td>\n",
       "    </tr>\n",
       "    <tr>\n",
       "      <th>1</th>\n",
       "      <td>3223</td>\n",
       "      <td>2438</td>\n",
       "      <td>5661</td>\n",
       "    </tr>\n",
       "    <tr>\n",
       "      <th>All</th>\n",
       "      <td>19549</td>\n",
       "      <td>3071</td>\n",
       "      <td>22620</td>\n",
       "    </tr>\n",
       "  </tbody>\n",
       "</table>\n",
       "</div>"
      ],
      "text/plain": [
       "Predicted     -1     1    All\n",
       "True                         \n",
       "-1         16326   633  16959\n",
       "1           3223  2438   5661\n",
       "All        19549  3071  22620"
      ]
     },
     "execution_count": 365,
     "metadata": {},
     "output_type": "execute_result"
    }
   ],
   "source": [
    "cf_matrix(ytrain, lda_op_train)"
   ]
  },
  {
   "cell_type": "markdown",
   "metadata": {},
   "source": [
    "### 4. Logistic Regression train and test accuracy"
   ]
  },
  {
   "cell_type": "code",
   "execution_count": 366,
   "metadata": {},
   "outputs": [
    {
     "name": "stdout",
     "output_type": "stream",
     "text": [
      "Accuracy over different alphas: \n",
      "\n",
      "{0.03: 75.50722715820183, 0.01: 75.50722715820183, 0.003: 24.49277284179817, 0.001: 73.13353666622464, 0.0003: 76.63439862087256, 0.0001: 75.865269858109, 3e-05: 75.75918313221058, 1e-05: 75.74592229147328, 3e-06: 75.73266145073597, 1e-06: 75.70613976926137}\n"
     ]
    }
   ],
   "source": [
    "print(\"Accuracy over different alphas: \\n\")\n",
    "print(results)"
   ]
  },
  {
   "cell_type": "code",
   "execution_count": 367,
   "metadata": {},
   "outputs": [
    {
     "name": "stderr",
     "output_type": "stream",
     "text": [
      "C:\\Anaconda\\lib\\site-packages\\ipykernel_launcher.py:36: RuntimeWarning: invalid value encountered in true_divide\n"
     ]
    }
   ],
   "source": [
    "lr_op_test = lr_clf.use(xtest.values)\n",
    "lr_op_train = lr_clf.use(xtrain.values)\n",
    "lr_acc = (accuracy(ytrain.values,lr_op_train), accuracy(ytest.values,lr_op_test))"
   ]
  },
  {
   "cell_type": "code",
   "execution_count": 368,
   "metadata": {},
   "outputs": [
    {
     "name": "stdout",
     "output_type": "stream",
     "text": [
      " Train accuracy :  76.19805481874447 % \n",
      " Test accuracy :  76.63439862087256 %\n"
     ]
    }
   ],
   "source": [
    "print(\" Train accuracy : \", lr_acc[0], \"%\", \"\\n Test accuracy : \", lr_acc[1] ,\"%\")"
   ]
  },
  {
   "cell_type": "markdown",
   "metadata": {},
   "source": [
    "## C. Plots for results "
   ]
  },
  {
   "cell_type": "code",
   "execution_count": 369,
   "metadata": {},
   "outputs": [
    {
     "data": {
      "image/png": "[encoded data removed]",
      "text/plain": [
       "<Figure size 1080x360 with 1 Axes>"
      ]
     },
     "metadata": {
      "needs_background": "light"
     },
     "output_type": "display_data"
    }
   ],
   "source": [
    "import matplotlib.pyplot as plt\n",
    "plt.figure(figsize=(15,5))\n",
    "plt.xticks(range(len(results)),results.keys())\n",
    "plt.plot(results.values(),'r')\n",
    "plt.scatter(np.argmax(list(results.values())), max(results.values()), c='g', s=200)\n",
    "plt.text(np.argmax(list(results.values()))-0.38, max(results.values())-1.5, \"Best\\n\"+str(round(max(results.values()),2))+'%',size = 13)\n",
    "plt.show()"
   ]
  },
  {
   "cell_type": "code",
   "execution_count": 370,
   "metadata": {},
   "outputs": [
    {
     "data": {
      "image/png": "[encoded data removed]",
      "text/plain": [
       "<Figure size 864x504 with 1 Axes>"
      ]
     },
     "metadata": {
      "needs_background": "light"
     },
     "output_type": "display_data"
    }
   ],
   "source": [
    "plt.figure(figsize=(12,7))\n",
    "plt.clf()\n",
    "plt.ylim([70,90])\n",
    "plt.xticks([0,1],['Train','Test'],size=15)\n",
    "plt.ylabel(\"Accuracy %\",rotation = 90, size = 15)\n",
    "plt.plot([0,1],pk_acc,label = 'pocket Algorithm')\n",
    "plt.plot([0,1],qda_acc, label = 'QDA')\n",
    "plt.plot([0,1],lda_acc, label = 'LDA')\n",
    "plt.plot([0,1],lr_acc, label = 'Logistic Classifier')\n",
    "plt.legend(prop={'size':13},loc='upper right')\n",
    "plt.show()"
   ]
  },
  {
   "cell_type": "code",
   "execution_count": 371,
   "metadata": {},
   "outputs": [
    {
     "name": "stdout",
     "output_type": "stream",
     "text": [
      "(7541, 103) (104,)\n"
     ]
    },
    {
     "data": {
      "image/png": "[encoded data removed]",
      "text/plain": [
       "<Figure size 576x360 with 1 Axes>"
      ]
     },
     "metadata": {
      "needs_background": "light"
     },
     "output_type": "display_data"
    }
   ],
   "source": [
    "from sklearn.metrics import roc_curve\n",
    "res = pk_clf.use(xtest)\n",
    "thr = np.linspace(-0.5,1,9)\n",
    "fpr, tpr, threshold = roc_curve(ytest,res)\n",
    "plt.figure(figsize=(8,5))\n",
    "plt.ylabel(\"True Positive Rate\",rotation = 90, size = 13)\n",
    "plt.xlabel(\"False Positive Rate\", size = 13)\n",
    "plt.plot(fpr,tpr)\n",
    "plt.plot([0,1],[0,1],'r--')\n",
    "plt.show()"
   ]
  },
  {
   "cell_type": "markdown",
   "metadata": {},
   "source": [
    "##  D. Discussions about classificaion model comparison"
   ]
  },
  {
   "cell_type": "markdown",
   "metadata": {},
   "source": [
    "* After comparing models we can conclude that for our data LDA is perfoming best.\n",
    "* On the other hand QDA model is not fitting on data at all.\n",
    "* In terms of ruuning time pocket algorithm takes longest time to run becuase we update w after each data iteration.\n",
    "* On the other hand for logistic regression training time for one model is not as much as pocket algortithm but we need to find optimal value of alpha.\n",
    "* One thing i noticed during training of logistic regression that our model's weight matrix is going out of bound very fast.\n",
    "* One reason for this weight matrix going nan is softmax function is exponential and what our input data range is also matters.\n",
    "* All algorithms gives different result for normalized and unnormalized data."
   ]
  },
  {
   "cell_type": "markdown",
   "metadata": {},
   "source": [
    "# Conclusions\n",
    "\n",
    "* After running all classifier on my selected data and after visualizing results using different accuracy matrix i came to following conclusions.\n",
    "* Each classifier comes with its own weakness and strengths.\n",
    "* From the accuracy we can conclude that LDA is performing best on our dataset.\n",
    "* One important thing that i noticed is that if we use std normalized data in LDA its not fitting the data at all because of inverse matrix can not be created.\n",
    "* Unlike first three model QDA, LDA, and Pocket Algorithms the Logistic regression model have one hyper parameter alpha which we need to tune. So it takes more training time to train.\n",
    "* Also for higher valued of alpha w is getting out of hand fast. And start giving nan values because of overflow.\n",
    "* For our case alpha 0.001 giving best results."
   ]
  },
  {
   "cell_type": "markdown",
   "metadata": {},
   "source": [
    "# References\n",
    "\n",
    "https://archive.ics.uci.edu/ml/datasets/Census+Income    \n",
    "https://www.dataschool.io/simple-guide-to-confusion-matrix-terminology/   \n",
    "https://datascience.stackexchange.com/questions/15989/micro-average-vs-macro-average-performance-in-a-multiclass-classification-settin   \n",
    "https://towardsdatascience.com/classification-part-2-linear-discriminant-analysis-ea60c45b9ee5    \n",
    "https://ftp.cs.nyu.edu/~roweis/csc2515-2006/readings/gallant.pdf    \n",
    "https://towardsdatascience.com/understanding-auc-roc-curve-68b2303cc9c5"
   ]
  }
 ],
 "metadata": {
  "kernelspec": {
   "display_name": "Python 3",
   "language": "python",
   "name": "python3"
  },
  "language_info": {
   "codemirror_mode": {
    "name": "ipython",
    "version": 3
   },
   "file_extension": ".py",
   "mimetype": "text/x-python",
   "name": "python",
   "nbconvert_exporter": "python",
   "pygments_lexer": "ipython3",
   "version": "3.7.1"
  }
 },
 "nbformat": 4,
 "nbformat_minor": 2
}
